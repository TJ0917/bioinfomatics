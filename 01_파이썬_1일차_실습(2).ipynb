{
  "nbformat": 4,
  "nbformat_minor": 0,
  "metadata": {
    "colab": {
      "provenance": [],
      "authorship_tag": "ABX9TyN7VoJWMzwP1FLjJdhYyt8P",
      "include_colab_link": true
    },
    "kernelspec": {
      "name": "python3",
      "display_name": "Python 3"
    },
    "language_info": {
      "name": "python"
    }
  },
  "cells": [
    {
      "cell_type": "markdown",
      "metadata": {
        "id": "view-in-github",
        "colab_type": "text"
      },
      "source": [
        "<a href=\"https://colab.research.google.com/github/TJ0917/bioinfomatics/blob/main/01_%ED%8C%8C%EC%9D%B4%EC%8D%AC_1%EC%9D%BC%EC%B0%A8_%EC%8B%A4%EC%8A%B5(2).ipynb\" target=\"_parent\"><img src=\"https://colab.research.google.com/assets/colab-badge.svg\" alt=\"Open In Colab\"/></a>"
      ]
    },
    {
      "cell_type": "code",
      "source": [
        "###시간(Time)=거리(DIstance)/속도(Velocity)   #변수는 중괄호로\n",
        "\n",
        "num1 = int(input('속도를 입력해 주세요:'))\n",
        "num2 = int(input('거리를 입력해 주세요:'))\n",
        "print(f'속도 : {num1}')\n",
        "print(f'거리 : {num2}')\n",
        "print(f'시간 : {num2} / {num1} = {num2/num1}')"
      ],
      "metadata": {
        "colab": {
          "base_uri": "https://localhost:8080/"
        },
        "id": "HuV53uHXyj9K",
        "outputId": "dcebf0f7-e49b-4c08-d8b0-235b8d0e1e23"
      },
      "execution_count": 4,
      "outputs": [
        {
          "output_type": "stream",
          "name": "stdout",
          "text": [
            "속도를 입력해 주세요:200\n",
            "거리를 입력해 주세요:50\n",
            "속도 : 200\n",
            "거리 : 50\n",
            "시간 : 50 / 200 = 0.25\n"
          ]
        }
      ]
    },
    {
      "cell_type": "code",
      "source": [
        "print('%d/%d=%d'%(100,200,0.5))\n",
        "##수정\n",
        "print('%d/%d=%5.1f'%(100,200,0.5))  ##5.1f= 5자리로 표현, 소수점은 1자리까지 라는 뜻"
      ],
      "metadata": {
        "colab": {
          "base_uri": "https://localhost:8080/"
        },
        "id": "sTsen9Kv8bmx",
        "outputId": "4aea0c51-e97d-4fcd-eb12-0f180573a16f"
      },
      "execution_count": 5,
      "outputs": [
        {
          "output_type": "stream",
          "name": "stdout",
          "text": [
            "100/200=0\n",
            "100/200=  0.5\n"
          ]
        }
      ]
    },
    {
      "cell_type": "code",
      "source": [
        "a = int(input('정수를 입력하세요:'))\n",
        "num1 = a\n",
        "print(f'{a}+{a*11}+{a*111}={a+a*11+a*111}')"
      ],
      "metadata": {
        "colab": {
          "base_uri": "https://localhost:8080/"
        },
        "id": "N1M_-5iU8dbs",
        "outputId": "bbd10ded-a973-4c4e-d57d-3c197bbf7ca1"
      },
      "execution_count": 6,
      "outputs": [
        {
          "output_type": "stream",
          "name": "stdout",
          "text": [
            "정수를 입력하세요:7\n",
            "7+77+777=861\n"
          ]
        }
      ]
    },
    {
      "cell_type": "code",
      "source": [
        "#eval() : 문자열을 숫자처럼 계산해준다.\n",
        "#ex: eval('3+4')\n",
        "\n",
        "a = input('정수를 입력하세요:')\n",
        "result = f'{a} + {a+a} + {a+a+a}'\n",
        "print(f'{result}={eval(result)}')"
      ],
      "metadata": {
        "colab": {
          "base_uri": "https://localhost:8080/"
        },
        "id": "QaNHeK6d80wc",
        "outputId": "6b0737fe-6dd5-4fe4-bbc1-cd9fce2324c0"
      },
      "execution_count": 7,
      "outputs": [
        {
          "output_type": "stream",
          "name": "stdout",
          "text": [
            "정수를 입력하세요:7\n",
            "7 + 77 + 777=861\n"
          ]
        }
      ]
    }
  ]
}