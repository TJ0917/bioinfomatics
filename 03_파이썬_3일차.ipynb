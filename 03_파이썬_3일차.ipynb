{
  "nbformat": 4,
  "nbformat_minor": 0,
  "metadata": {
    "colab": {
      "provenance": [],
      "authorship_tag": "ABX9TyOiHZ7/70ID/nyDeEiSdOHT",
      "include_colab_link": true
    },
    "kernelspec": {
      "name": "python3",
      "display_name": "Python 3"
    },
    "language_info": {
      "name": "python"
    }
  },
  "cells": [
    {
      "cell_type": "markdown",
      "metadata": {
        "id": "view-in-github",
        "colab_type": "text"
      },
      "source": [
        "<a href=\"https://colab.research.google.com/github/TJ0917/bioinfomatics/blob/main/03_%ED%8C%8C%EC%9D%B4%EC%8D%AC_3%EC%9D%BC%EC%B0%A8.ipynb\" target=\"_parent\"><img src=\"https://colab.research.google.com/assets/colab-badge.svg\" alt=\"Open In Colab\"/></a>"
      ]
    },
    {
      "cell_type": "code",
      "execution_count": null,
      "metadata": {
        "id": "O_MZR8nky8S5"
      },
      "outputs": [],
      "source": [
        "##자동주문 머신 프로그램\n",
        "\n",
        "c1_price=3000\n",
        "c2_price=5000\n",
        "c3_price=5000\n",
        "c4_price=10000\n",
        "\n",
        "menu=f'''[피자 자동주문 머신 메뉴]\n",
        "--------------------\n",
        "기본 도우는 5000원 입니다.\n",
        "-페퍼로니 추가: {c1_price}원\n",
        "-소고기 추가: {c2_price}원\n",
        "-새우 추가: {c3_price}원\n",
        "-모듬 토핑 추가: {c4_price}원\n",
        "-------------------\n",
        "원하시는 피자의 토핑을 입력하세요.\n",
        "'''\n",
        "print(menu)\n",
        "\n",
        "#c1=int(input('페퍼로니 추가 개수:'))\n",
        "#값이 안 들어올때 오류 안나게 하려면\n",
        "if input('페퍼로니 추가 개수:'):\n",
        "  c1 = int(c1)\n",
        "else:\n",
        "  c1 = 0\n",
        "#1줄로 줄이면 c1 = int(c1)  if input('페퍼로니 추가 개수:') else c1 = 0\n",
        "\n",
        "c2=int(input('소고기 추가 개수:'))\n",
        "c3=int(input('새우 추가 개수:'))\n",
        "c4=int(input('모듬 토핑 추가 개수:'))\n",
        "total=5000+c1_price*c1+c2_price*c2+c3_price*c3+c4_price*c4\n",
        "\n",
        "print(f'주문하신 피자 총액은 {total}원 입니다.')\n",
        "\n",
        "money=int(input('돈을 넣어주세요:'))\n",
        "\n",
        "if total>money:\n",
        "  print(f'{total-money}원이 부족합니다. 돈을 다시 넣어주세요.')\n",
        "else:\n",
        "  print(f'거스름돈은 {abs(total-money)}원 입니다. 맛있게 드세요.') #abs함수 = 절대값"
      ]
    },
    {
      "cell_type": "code",
      "source": [
        "##range() 함수 사용\n",
        "\n",
        "#= for 값 in range (0,7,1):\n",
        "#= for 값 in range (0,7)\n",
        "for 값 in range(7):\n",
        "  print(f'{값} 안녕하세요. 파이썬 반복 중 입니다.')\n",
        "\n",
        "print('-'*10)\n",
        "\n",
        "for 값 in range(2,6,3):\n",
        "  print(f'{값} 안녕하세요. 파이썬 반복 중 입니다.')"
      ],
      "metadata": {
        "colab": {
          "base_uri": "https://localhost:8080/"
        },
        "id": "56Z_n6lz7fIO",
        "outputId": "1651d76d-09df-458f-d539-ad78e6676c3d"
      },
      "execution_count": null,
      "outputs": [
        {
          "output_type": "stream",
          "name": "stdout",
          "text": [
            "0 안녕하세요. 파이썬 반복 중 입니다.\n",
            "1 안녕하세요. 파이썬 반복 중 입니다.\n",
            "2 안녕하세요. 파이썬 반복 중 입니다.\n",
            "3 안녕하세요. 파이썬 반복 중 입니다.\n",
            "4 안녕하세요. 파이썬 반복 중 입니다.\n",
            "5 안녕하세요. 파이썬 반복 중 입니다.\n",
            "6 안녕하세요. 파이썬 반복 중 입니다.\n",
            "----------\n",
            "2 안녕하세요. 파이썬 반복 중 입니다.\n",
            "5 안녕하세요. 파이썬 반복 중 입니다.\n"
          ]
        }
      ]
    },
    {
      "cell_type": "code",
      "source": [
        "#range()함수를 이용해 정수 나열 리스트 만들기\n",
        "\n",
        "print(list(range(3,20,5)))"
      ],
      "metadata": {
        "colab": {
          "base_uri": "https://localhost:8080/"
        },
        "id": "GZ8e-Cbo-OQy",
        "outputId": "30eb1d9f-5e6f-4983-f719-d995a0a7deff"
      },
      "execution_count": null,
      "outputs": [
        {
          "output_type": "stream",
          "name": "stdout",
          "text": [
            "[3, 8, 13, 18]\n"
          ]
        }
      ]
    },
    {
      "cell_type": "code",
      "source": [
        "#list 사용해서 반복하기\n",
        "\n",
        "for num in (1,2,'3','사',{5,6,7}):\n",
        "  print(f'{num} 파이썬 애플파이 레몬파이')\n",
        "\n",
        "for 번호 in 'PYTHON':\n",
        "  print(f'{번호} 파이썬 파이썬')"
      ],
      "metadata": {
        "colab": {
          "base_uri": "https://localhost:8080/"
        },
        "id": "lmfNV1ye_Q-z",
        "outputId": "44567b02-e403-49c1-aa55-beda0c9f6b96"
      },
      "execution_count": null,
      "outputs": [
        {
          "output_type": "stream",
          "name": "stdout",
          "text": [
            "1 파이썬 애플파이 레몬파이\n",
            "2 파이썬 애플파이 레몬파이\n",
            "3 파이썬 애플파이 레몬파이\n",
            "사 파이썬 애플파이 레몬파이\n",
            "{5, 6, 7} 파이썬 애플파이 레몬파이\n",
            "P 파이썬 파이썬\n",
            "Y 파이썬 파이썬\n",
            "T 파이썬 파이썬\n",
            "H 파이썬 파이썬\n",
            "O 파이썬 파이썬\n",
            "N 파이썬 파이썬\n"
          ]
        }
      ]
    },
    {
      "cell_type": "code",
      "source": [
        "#변수를 사용하지 않으려면 _ 사용\n",
        "\n",
        "for _ in '12345':\n",
        "  print(f'반가워요')\n",
        "\n",
        "for _ in range (7):\n",
        "  print(f'사과')"
      ],
      "metadata": {
        "colab": {
          "base_uri": "https://localhost:8080/"
        },
        "id": "3jeYnrfzAbby",
        "outputId": "cdb889de-277b-4364-9adf-0b2e73223dd1"
      },
      "execution_count": null,
      "outputs": [
        {
          "output_type": "stream",
          "name": "stdout",
          "text": [
            "반가워요\n",
            "반가워요\n",
            "반가워요\n",
            "반가워요\n",
            "반가워요\n",
            "사과\n",
            "사과\n",
            "사과\n",
            "사과\n",
            "사과\n",
            "사과\n",
            "사과\n"
          ]
        }
      ]
    },
    {
      "cell_type": "code",
      "source": [
        "# 1~100까지 합 구하기\n",
        "\n",
        "hap = 0\n",
        "for i in range(1,101,1):\n",
        "  hap = hap+i\n",
        "\n",
        "print(f'1~100까지 정수의 합은:{hap}')"
      ],
      "metadata": {
        "colab": {
          "base_uri": "https://localhost:8080/"
        },
        "id": "cNPMBbgLA1b4",
        "outputId": "db4893cc-5bac-4c68-e364-3d7d7ec0b68f"
      },
      "execution_count": null,
      "outputs": [
        {
          "output_type": "stream",
          "name": "stdout",
          "text": [
            "1~100까지 정수의 합은:5050\n"
          ]
        }
      ]
    },
    {
      "cell_type": "code",
      "source": [
        "#sum 함수 사용하기\n",
        "\n",
        "sum(list(range(1,101,1)))"
      ],
      "metadata": {
        "colab": {
          "base_uri": "https://localhost:8080/"
        },
        "id": "SbEiz45qBkV4",
        "outputId": "088e110d-be3d-440f-9dc2-d55fa40716cf"
      },
      "execution_count": null,
      "outputs": [
        {
          "output_type": "execute_result",
          "data": {
            "text/plain": [
              "5050"
            ]
          },
          "metadata": {},
          "execution_count": 30
        }
      ]
    },
    {
      "cell_type": "code",
      "source": [
        "#합 구하기\n",
        "\n",
        "a = [13,32,65,47,86,34,56,87,38,22]\n",
        "hap = 0\n",
        "for i in a: hap+=i\n",
        "print(f'리스트 {a}의 모든 요소의 합은 {hap}')\n",
        "\n",
        "#sum()/len()\n",
        "print(f'{a}의 합은 {sum(a)}')\n",
        "print(f'{a}의 갯수는 {len(a)}')\n",
        "\n",
        "#max()/min()\n",
        "print(f'{a}에서 가장 큰 수는 {max(a)}')\n",
        "print(f'{a}에서 가장 작은 {min(a)}')\n",
        "\n",
        "#평균 구하기 (avg 함수는 없음)\n",
        "print(f'{a}의 평균은 {sum(a)/len(a)}')"
      ],
      "metadata": {
        "colab": {
          "base_uri": "https://localhost:8080/"
        },
        "id": "NfYu_WzbFKgb",
        "outputId": "0c027645-38c9-479e-8c85-34ef1150f875"
      },
      "execution_count": null,
      "outputs": [
        {
          "output_type": "stream",
          "name": "stdout",
          "text": [
            "리스트 [13, 32, 65, 47, 86, 34, 56, 87, 38, 22]의 모든 요소의 합은 480\n",
            "[13, 32, 65, 47, 86, 34, 56, 87, 38, 22]의 합은 480\n",
            "[13, 32, 65, 47, 86, 34, 56, 87, 38, 22]의 갯수는 10\n",
            "[13, 32, 65, 47, 86, 34, 56, 87, 38, 22]에서 가장 큰 수는 87\n",
            "[13, 32, 65, 47, 86, 34, 56, 87, 38, 22]에서 가장 작은 13\n",
            "[13, 32, 65, 47, 86, 34, 56, 87, 38, 22]의 평균은 48.0\n"
          ]
        }
      ]
    },
    {
      "cell_type": "code",
      "source": [
        "#1~n까지 합 구하기\n",
        "\n",
        "n=int(input('합계를 구할 숫자:'))\n",
        "hap = 0\n",
        "for i in range(1,n+1,1):\n",
        "  hap = hap+i\n",
        "print(f'1~{n}까지 정수의 합은:{hap}')\n",
        "\n",
        "n = int(input('합계를 구할 숫자 입력 :'))\n",
        "total = sum(list(range(1, n + 1)))\n",
        "print(f'1 ~ {n} 까지의 합은 : {total}')\n"
      ],
      "metadata": {
        "colab": {
          "base_uri": "https://localhost:8080/"
        },
        "id": "gp-MprXCH2ZV",
        "outputId": "c5cecf8e-a1f4-4a9c-e77f-4c30b985536d"
      },
      "execution_count": null,
      "outputs": [
        {
          "output_type": "stream",
          "name": "stdout",
          "text": [
            "합계를 구할 숫자:50\n",
            "1~50까지 정수의 합은:1275\n",
            "합계를 구할 숫자 입력 :50\n",
            "1 ~ 50 까지의 합은 : 1275\n"
          ]
        }
      ]
    },
    {
      "cell_type": "code",
      "source": [
        "#1+n까지 합 구하기, 짝수 제외\n",
        "\n",
        "n=int(input('합계를 구할 숫자:'))\n",
        "hap = 0\n",
        "for i in range(1,n+1,2):\n",
        "  hap = hap+i\n",
        "print(f'1~{n}까지 짝수를 제외한 정수의 합은:{hap}')\n",
        "\n",
        "n=int(input('합계를 구할 숫자:'))\n",
        "hap = 0\n",
        "for i in range(1,n+1,1):\n",
        "  if i%2 !=0: #짝수가 아니다\n",
        "    hap += i #hap = hap+i\n",
        "print(f'1~{n}까지 짝수를 제외한 정수의 합은:{hap}')\n"
      ],
      "metadata": {
        "colab": {
          "base_uri": "https://localhost:8080/"
        },
        "id": "4RXpes7WKUsk",
        "outputId": "e20fdc25-84db-4d53-8180-800b54d53f0c"
      },
      "execution_count": null,
      "outputs": [
        {
          "output_type": "stream",
          "name": "stdout",
          "text": [
            "합계를 구할 숫자:100\n",
            "1~100까지 짝수를 제외한 정수의 합은:2500\n",
            "합계를 구할 숫자:100\n",
            "1~100까지 짝수를 제외한 정수의 합은:2500\n"
          ]
        }
      ]
    },
    {
      "cell_type": "code",
      "source": [
        "##괄호 체크 프로그램 만들기\n",
        "\n",
        "a_list=list(input('괄호 문장을 입력하세요:'))\n",
        "print(a_list)\n",
        "total=0 #괄호의 합\n",
        "for p in a_list:\n",
        "  if p == '(':\n",
        "    total += 1\n",
        "  elif p == ')':\n",
        "    total -= 1\n",
        "  if total < 0:\n",
        "    break\n",
        "\n",
        "if total == 0 :\n",
        "  print('결과 :True')\n",
        "else:\n",
        "  print('결과 :False')"
      ],
      "metadata": {
        "colab": {
          "base_uri": "https://localhost:8080/"
        },
        "id": "fskUtOv1NIIs",
        "outputId": "4bf6a7cf-0d80-466d-ece2-d4063dabf41d"
      },
      "execution_count": null,
      "outputs": [
        {
          "output_type": "stream",
          "name": "stdout",
          "text": [
            "괄호 문장을 입력하세요:(())((()())))\n",
            "['(', '(', ')', ')', '(', '(', '(', ')', '(', ')', ')', ')', ')']\n",
            "결과 :False\n"
          ]
        }
      ]
    },
    {
      "cell_type": "code",
      "source": [
        "#구구단 출력하기\n",
        "\n",
        "n=int(input('몇단을 출력할까요?:'))\n",
        "for i in range(1,10,1):\n",
        "  print(f'{n} X {i} = {n*i:>2}') #:>2 = 2자리로 표현하라는 뜻"
      ],
      "metadata": {
        "colab": {
          "base_uri": "https://localhost:8080/"
        },
        "id": "7dAwxKyrT9zB",
        "outputId": "0ab49efc-95df-4539-91b3-18d149359138"
      },
      "execution_count": null,
      "outputs": [
        {
          "output_type": "stream",
          "name": "stdout",
          "text": [
            "몇단을 출력할까요?:12\n",
            "12 X 1 = 12\n",
            "12 X 2 = 24\n",
            "12 X 3 = 36\n",
            "12 X 4 = 48\n",
            "12 X 5 = 60\n",
            "12 X 6 = 72\n",
            "12 X 7 = 84\n",
            "12 X 8 = 96\n",
            "12 X 9 = 108\n"
          ]
        }
      ]
    },
    {
      "cell_type": "code",
      "source": [
        "#end 넣는법\n",
        "\n",
        "for i in range(5):\n",
        "  print(f'{i}', end=' ')"
      ],
      "metadata": {
        "colab": {
          "base_uri": "https://localhost:8080/"
        },
        "id": "b90r2y5jWZcZ",
        "outputId": "1afe058e-e498-4647-8f27-3a40bf4a22d4"
      },
      "execution_count": null,
      "outputs": [
        {
          "output_type": "stream",
          "name": "stdout",
          "text": [
            "0 1 2 3 4 "
          ]
        }
      ]
    },
    {
      "cell_type": "code",
      "source": [
        "for i in range(5):\n",
        "  for k in range (3):\n",
        "    print(f'{i}:{k}', end=' ')\n",
        "  print()"
      ],
      "metadata": {
        "colab": {
          "base_uri": "https://localhost:8080/"
        },
        "id": "4KfkOklwXbiA",
        "outputId": "0cc9eb88-1756-4a1e-d91e-1bdd69ac3bcf"
      },
      "execution_count": null,
      "outputs": [
        {
          "output_type": "stream",
          "name": "stdout",
          "text": [
            "0:0 0:1 0:2 \n",
            "1:0 1:1 1:2 \n",
            "2:0 2:1 2:2 \n",
            "3:0 3:1 3:2 \n",
            "4:0 4:1 4:2 \n"
          ]
        }
      ]
    },
    {
      "cell_type": "code",
      "source": [
        "#2~9 구구단 출력하기\n",
        "for i in range(1,10):\n",
        "  for k in range (2,10):\n",
        "    print(f'{k}x{i}={i*k:>2}', end=', ')\n",
        "  print()"
      ],
      "metadata": {
        "colab": {
          "base_uri": "https://localhost:8080/"
        },
        "id": "SUcFOv2GXxN0",
        "outputId": "70fe708e-bc03-47a1-f700-0f8373b62145"
      },
      "execution_count": null,
      "outputs": [
        {
          "output_type": "stream",
          "name": "stdout",
          "text": [
            "2x1= 2, 3x1= 3, 4x1= 4, 5x1= 5, 6x1= 6, 7x1= 7, 8x1= 8, 9x1= 9, \n",
            "2x2= 4, 3x2= 6, 4x2= 8, 5x2=10, 6x2=12, 7x2=14, 8x2=16, 9x2=18, \n",
            "2x3= 6, 3x3= 9, 4x3=12, 5x3=15, 6x3=18, 7x3=21, 8x3=24, 9x3=27, \n",
            "2x4= 8, 3x4=12, 4x4=16, 5x4=20, 6x4=24, 7x4=28, 8x4=32, 9x4=36, \n",
            "2x5=10, 3x5=15, 4x5=20, 5x5=25, 6x5=30, 7x5=35, 8x5=40, 9x5=45, \n",
            "2x6=12, 3x6=18, 4x6=24, 5x6=30, 6x6=36, 7x6=42, 8x6=48, 9x6=54, \n",
            "2x7=14, 3x7=21, 4x7=28, 5x7=35, 6x7=42, 7x7=49, 8x7=56, 9x7=63, \n",
            "2x8=16, 3x8=24, 4x8=32, 5x8=40, 6x8=48, 7x8=56, 8x8=64, 9x8=72, \n",
            "2x9=18, 3x9=27, 4x9=36, 5x9=45, 6x9=54, 7x9=63, 8x9=72, 9x9=81, \n"
          ]
        }
      ]
    },
    {
      "cell_type": "code",
      "source": [
        "for i in range(2,10):\n",
        "  print(f'# {i}단 ', end=' ')\n",
        "# print()  # '\\n'\n",
        "print('\\n'+'-'*60)\n",
        "\n",
        "for i in range(1,10):\n",
        "  for k in range(2,10):\n",
        "    print(f'{k}x{i}={i*k:>2}', end=' ')\n",
        "  print()"
      ],
      "metadata": {
        "colab": {
          "base_uri": "https://localhost:8080/"
        },
        "id": "i7N5NdyAYzKZ",
        "outputId": "d4f6fa43-87a3-4e5b-8e59-1ab91532b5be"
      },
      "execution_count": null,
      "outputs": [
        {
          "output_type": "stream",
          "name": "stdout",
          "text": [
            "# 2단  # 3단  # 4단  # 5단  # 6단  # 7단  # 8단  # 9단  \n",
            "------------------------------------------------------------\n",
            "2x1= 2 3x1= 3 4x1= 4 5x1= 5 6x1= 6 7x1= 7 8x1= 8 9x1= 9 \n",
            "2x2= 4 3x2= 6 4x2= 8 5x2=10 6x2=12 7x2=14 8x2=16 9x2=18 \n",
            "2x3= 6 3x3= 9 4x3=12 5x3=15 6x3=18 7x3=21 8x3=24 9x3=27 \n",
            "2x4= 8 3x4=12 4x4=16 5x4=20 6x4=24 7x4=28 8x4=32 9x4=36 \n",
            "2x5=10 3x5=15 4x5=20 5x5=25 6x5=30 7x5=35 8x5=40 9x5=45 \n",
            "2x6=12 3x6=18 4x6=24 5x6=30 6x6=36 7x6=42 8x6=48 9x6=54 \n",
            "2x7=14 3x7=21 4x7=28 5x7=35 6x7=42 7x7=49 8x7=56 9x7=63 \n",
            "2x8=16 3x8=24 4x8=32 5x8=40 6x8=48 7x8=56 8x8=64 9x8=72 \n",
            "2x9=18 3x9=27 4x9=36 5x9=45 6x9=54 7x9=63 8x9=72 9x9=81 \n"
          ]
        }
      ]
    },
    {
      "cell_type": "code",
      "source": [
        "help(print)"
      ],
      "metadata": {
        "colab": {
          "base_uri": "https://localhost:8080/"
        },
        "id": "apDLT7jybdeE",
        "outputId": "3b9e4f11-6ed0-4792-c373-88bea9fb0186"
      },
      "execution_count": null,
      "outputs": [
        {
          "output_type": "stream",
          "name": "stdout",
          "text": [
            "Help on built-in function print in module builtins:\n",
            "\n",
            "print(...)\n",
            "    print(value, ..., sep=' ', end='\\n', file=sys.stdout, flush=False)\n",
            "    \n",
            "    Prints the values to a stream, or to sys.stdout by default.\n",
            "    Optional keyword arguments:\n",
            "    file:  a file-like object (stream); defaults to the current sys.stdout.\n",
            "    sep:   string inserted between values, default a space.\n",
            "    end:   string appended after the last value, default a newline.\n",
            "    flush: whether to forcibly flush the stream.\n",
            "\n"
          ]
        }
      ]
    },
    {
      "cell_type": "code",
      "source": [
        "##난수(Random Number)\n",
        "\n",
        "import random\n",
        "\n",
        "#임의의 정수\n",
        "print(random.randint(1,20)) #1이상, 20이하 정수\n",
        "print(random.randrange(1,20,2)) #1이상, 20미만 정수, 2 간격\n",
        "\n",
        "#임의의 실수\n",
        "print(random.random())\n",
        "print(random.uniform(1,15))\n",
        "\n",
        "#섞기\n",
        "a=[1,2,3,4,5,6,7,8,9,10]\n",
        "print(a)\n",
        "random.shuffle(a)\n",
        "print(a)\n",
        "\n",
        "#리스트 요소들 중 선택\n",
        "print(random.choice(a)) #1개 선택하기\n",
        "print(random.sample(a,2)) #개수 지정해서 선택하기\n",
        "\n",
        "#ex)로또 번호 생성기\n",
        "print(f'로또번호 출력기: ',random.sample(range(1,46),6))\n",
        "#정렬하기\n",
        "print(f'로또번호 출력기: ',sorted(random.sample(range(1,46),6)))"
      ],
      "metadata": {
        "colab": {
          "base_uri": "https://localhost:8080/"
        },
        "id": "KmLzdWM_pas8",
        "outputId": "2ec4e9e0-b1f2-42a5-aeaa-f81e568f99d6"
      },
      "execution_count": 137,
      "outputs": [
        {
          "output_type": "stream",
          "name": "stdout",
          "text": [
            "4\n",
            "3\n",
            "0.3081862091841028\n",
            "11.696914112717986\n",
            "[1, 2, 3, 4, 5, 6, 7, 8, 9, 10]\n",
            "[1, 9, 7, 2, 4, 5, 8, 3, 10, 6]\n",
            "4\n",
            "[5, 7]\n",
            "로또번호 출력기:  [10, 44, 19, 42, 13, 28]\n",
            "로또번호 출력기:  [4, 7, 12, 15, 36, 40]\n"
          ]
        }
      ]
    },
    {
      "cell_type": "code",
      "source": [
        "##주사위 비교 프로그램\n",
        "\n",
        "print('주사위를 5번 던져서 비교하는 프로그램입니다.')\n",
        "\n",
        "for n in range (5):\n",
        "  print()\n",
        "  print(f'-----{n+1}번째 시도입니다.')\n",
        "  a=random.randint(1,6)\n",
        "  b=random.randint(1,6)\n",
        "\n",
        "  print(f'A 결과: [{a}], B 결과:[{b}]')\n",
        "  if a>b:\n",
        "    print('A가 이겼습니다.')\n",
        "  elif a==b:\n",
        "      print('A와 B가 비겼습니다.')\n",
        "  else:\n",
        "      print('B가 이겼습니다.')"
      ],
      "metadata": {
        "colab": {
          "base_uri": "https://localhost:8080/"
        },
        "id": "xYGRInFgzgnl",
        "outputId": "94a8ceb9-9314-4515-aaf8-2e2922a8ae80"
      },
      "execution_count": 165,
      "outputs": [
        {
          "output_type": "stream",
          "name": "stdout",
          "text": [
            "주사위를 5번 던져서 비교하는 프로그램입니다.\n",
            "\n",
            "-----1번째 시도입니다.\n",
            "A 결과: [6], B 결과:[6]\n",
            "A와 B가 비겼습니다.\n",
            "\n",
            "-----2번째 시도입니다.\n",
            "A 결과: [1], B 결과:[6]\n",
            "B가 이겼습니다.\n",
            "\n",
            "-----3번째 시도입니다.\n",
            "A 결과: [5], B 결과:[5]\n",
            "A와 B가 비겼습니다.\n",
            "\n",
            "-----4번째 시도입니다.\n",
            "A 결과: [1], B 결과:[2]\n",
            "B가 이겼습니다.\n",
            "\n",
            "-----5번째 시도입니다.\n",
            "A 결과: [6], B 결과:[6]\n",
            "A와 B가 비겼습니다.\n"
          ]
        }
      ]
    },
    {
      "cell_type": "code",
      "source": [
        "#주사위 100번 던져서 숫자 카운팅하기\n",
        "\n",
        "import random\n",
        "\n",
        "d1,d2,d3,d4,d5,d6=0,0,0,0,0,0\n",
        "\n",
        "for i in range(100):\n",
        "  num = random.randint(1,6)\n",
        "  if num ==1: d1+=1\n",
        "  if num ==2: d2+=1\n",
        "  if num ==3: d3+=1\n",
        "  if num ==4: d4+=1\n",
        "  if num ==5: d5+=1\n",
        "  if num ==6: d6+=1\n",
        "\n",
        "print(f'주사위 숫자별 개수: D1[{d1}],D2[{d2}],D3[{d3}],D4[{d4}],D5[{d5}],D6[{d6}] ')"
      ],
      "metadata": {
        "colab": {
          "base_uri": "https://localhost:8080/"
        },
        "id": "PKgELPwp3MJn",
        "outputId": "2042c255-3b9d-456e-bc64-51b158b15bc3"
      },
      "execution_count": 190,
      "outputs": [
        {
          "output_type": "stream",
          "name": "stdout",
          "text": [
            "주사위 숫자별 개수: D1[16],D2[24],D3[17],D4[17],D5[11],D6[15] \n"
          ]
        }
      ]
    },
    {
      "cell_type": "code",
      "source": [
        "import random\n",
        "\n",
        "dice = [0,0,0,0,0,0]\n",
        "for i in range(10):\n",
        "  num = random.randint(1,6)\n",
        "  dice[num-1]=dice[num-1]+1\n",
        "  print(f'[{i+1}]회 시도: 나온 수 ({num}), 주사위:{dice}')"
      ],
      "metadata": {
        "colab": {
          "base_uri": "https://localhost:8080/"
        },
        "id": "PX3wbFX96gNS",
        "outputId": "22481e61-a4cd-4d5c-a8dc-2291b9b8c2ea"
      },
      "execution_count": 198,
      "outputs": [
        {
          "output_type": "stream",
          "name": "stdout",
          "text": [
            "[1]회 시도: 나온 수 (3), 주사위:[0, 0, 1, 0, 0, 0]\n",
            "[2]회 시도: 나온 수 (6), 주사위:[0, 0, 1, 0, 0, 1]\n",
            "[3]회 시도: 나온 수 (5), 주사위:[0, 0, 1, 0, 1, 1]\n",
            "[4]회 시도: 나온 수 (3), 주사위:[0, 0, 2, 0, 1, 1]\n",
            "[5]회 시도: 나온 수 (3), 주사위:[0, 0, 3, 0, 1, 1]\n",
            "[6]회 시도: 나온 수 (1), 주사위:[1, 0, 3, 0, 1, 1]\n",
            "[7]회 시도: 나온 수 (6), 주사위:[1, 0, 3, 0, 1, 2]\n",
            "[8]회 시도: 나온 수 (5), 주사위:[1, 0, 3, 0, 2, 2]\n",
            "[9]회 시도: 나온 수 (4), 주사위:[1, 0, 3, 1, 2, 2]\n",
            "[10]회 시도: 나온 수 (3), 주사위:[1, 0, 4, 1, 2, 2]\n"
          ]
        }
      ]
    },
    {
      "cell_type": "code",
      "source": [
        "##중복값 처리 안한 코드\n",
        "\n",
        "import random\n",
        "\n",
        "dice = [0,0,0,0,0,0]\n",
        "for i in range(20):\n",
        "  num = random.randint(1,6)\n",
        "  dice[num-1]=dice[num-1]+1\n",
        "\n",
        "print(f'주사위 숫자의 나온 횟수: {dice}')\n",
        "print(f'가장 많이 나온 횟수: {max(dice)}, 가장 많이 나온 눈금: {dice.index(max(dice))+1}')"
      ],
      "metadata": {
        "colab": {
          "base_uri": "https://localhost:8080/"
        },
        "id": "eaAGmWej9Bev",
        "outputId": "1cb0da57-338f-4295-8b05-2de22e1c7d0b"
      },
      "execution_count": 207,
      "outputs": [
        {
          "output_type": "stream",
          "name": "stdout",
          "text": [
            "주사위 숫자의 나온 횟수: [3, 1, 2, 6, 3, 5]\n",
            "가장 많이 나온 횟수: 6, 가장 많이 나온 눈금: 4\n"
          ]
        }
      ]
    },
    {
      "cell_type": "code",
      "source": [
        "##나무 찍어 넘기기 프로그램\n",
        "\n",
        "t=0\n",
        "while t<10:\n",
        "  t+=1\n",
        "  print(f'나무를 {t}번 찍었습니다.')\n",
        "  if t==10:\n",
        "    break\n",
        "    print('나무를 베었습니다!')"
      ],
      "metadata": {
        "colab": {
          "base_uri": "https://localhost:8080/"
        },
        "id": "MpiGoSZc-oa4",
        "outputId": "11291e43-5c62-47b6-dde6-2fc607ad5640"
      },
      "execution_count": 215,
      "outputs": [
        {
          "output_type": "stream",
          "name": "stdout",
          "text": [
            "나무를 1번 찍었습니다.\n",
            "나무를 2번 찍었습니다.\n",
            "나무를 3번 찍었습니다.\n",
            "나무를 4번 찍었습니다.\n",
            "나무를 5번 찍었습니다.\n",
            "나무를 6번 찍었습니다.\n",
            "나무를 7번 찍었습니다.\n",
            "나무를 8번 찍었습니다.\n",
            "나무를 9번 찍었습니다.\n",
            "나무를 10번 찍었습니다.\n"
          ]
        }
      ]
    },
    {
      "cell_type": "code",
      "source": [
        "##나무 찍어 넘기기 프로그램\n",
        "\n",
        "s=int(input(f'나무가 버티는 횟수:'))\n",
        "\n",
        "t=0\n",
        "while t<s:\n",
        "  t+=1\n",
        "  print(f'나무를 {t}번 찍었습니다.')\n",
        "  if t==s:\n",
        "    print('나무를 베었습니다!')"
      ],
      "metadata": {
        "colab": {
          "base_uri": "https://localhost:8080/"
        },
        "id": "d8J2dxhQJZyp",
        "outputId": "e4032a07-dcfd-42e2-a5ed-6bf9beaa811a"
      },
      "execution_count": 214,
      "outputs": [
        {
          "output_type": "stream",
          "name": "stdout",
          "text": [
            "나무가 버티는 횟수:5\n",
            "나무를 1번 찍었습니다.\n",
            "나무를 2번 찍었습니다.\n",
            "나무를 3번 찍었습니다.\n",
            "나무를 4번 찍었습니다.\n",
            "나무를 5번 찍었습니다.\n",
            "나무를 베었습니다!\n"
          ]
        }
      ]
    },
    {
      "cell_type": "code",
      "source": [
        "prompt='''\n",
        "  1.Add, 2.Del, 3.Modify, 4.Quit\n",
        "  Enter number: '''\n",
        "\n",
        "num = ''\n",
        "while True:\n",
        "  num=input(prompt)\n",
        "  if num=='4':break\n",
        "print('Program Finished')"
      ],
      "metadata": {
        "colab": {
          "base_uri": "https://localhost:8080/"
        },
        "id": "V3Y231R_KFwz",
        "outputId": "2f1d2a13-57b1-47ef-ce87-18c9f4060208"
      },
      "execution_count": 220,
      "outputs": [
        {
          "output_type": "stream",
          "name": "stdout",
          "text": [
            "\n",
            "  1.Add, 2.Del, 3.Modify, 4.Quit\n",
            "  Enter number: 1\n",
            "\n",
            "  1.Add, 2.Del, 3.Modify, 4.Quit\n",
            "  Enter number: 2\n",
            "\n",
            "  1.Add, 2.Del, 3.Modify, 4.Quit\n",
            "  Enter number: 4\n",
            "Program Finished\n"
          ]
        }
      ]
    },
    {
      "cell_type": "code",
      "source": [
        "coffee1_price = 2500\n",
        "coffee2_price = 3000\n",
        "coffee3_price = 3000\n",
        "menu = f'''[커피 자동주문 머신 메뉴]\n",
        "------------------------\n",
        "- 아메리카노:  {coffee1_price}원\n",
        "- 카페라떼:    {coffee2_price}원\n",
        "- 카푸치노:    {coffee3_price}원\n",
        "------------------------\n",
        "원하시는 커피종류와 잔수를 입력하세요!\n",
        "'''\n",
        "print(menu)\n",
        "coffee1 = int(input('아메리카노 몇잔: '))\n",
        "coffee2 = int(input('카페라떼   몇잔: '))\n",
        "coffee3 = int(input('카푸치노   몇잔: '))\n",
        "total = coffee1_price*coffee1 + coffee2_price*coffee2 + coffee3_price*coffee3\n",
        "print(f'주문하신 총 가격은 {total}원 입니다.')\n",
        "\n",
        "while True:\n",
        "  money = int(input('돈을 입력해주세요: '))\n",
        "  change=total-money\n",
        "  total=change\n",
        "  if change>0:\n",
        "    print(f'{change}원이 부족합니다. 돈을 더 넣어주세요')\n",
        "    print('-'*25)\n",
        "  else:\n",
        "    print(f'거스름돈은 {abs(change)}원 입니다. 커피 맛있게 드세요~')\n",
        "    break"
      ],
      "metadata": {
        "colab": {
          "base_uri": "https://localhost:8080/"
        },
        "id": "N99BFvroNY7A",
        "outputId": "7d1b75da-b31b-4804-e7a8-32bdf8c894b1"
      },
      "execution_count": 238,
      "outputs": [
        {
          "output_type": "stream",
          "name": "stdout",
          "text": [
            "[커피 자동주문 머신 메뉴]\n",
            "------------------------\n",
            "- 아메리카노:  2500원\n",
            "- 카페라떼:    3000원\n",
            "- 카푸치노:    3000원\n",
            "------------------------\n",
            "원하시는 커피종류와 잔수를 입력하세요!\n",
            "\n",
            "아메리카노 몇잔: 1\n",
            "카페라떼   몇잔: 2\n",
            "카푸치노   몇잔: 3\n",
            "주문하신 총 가격은 17500원 입니다.\n",
            "돈을 입력해주세요: 1000\n",
            "16500원이 부족합니다. 돈을 더 넣어주세요\n",
            "-------------------------\n",
            "돈을 입력해주세요: 5000\n",
            "11500원이 부족합니다. 돈을 더 넣어주세요\n",
            "-------------------------\n",
            "돈을 입력해주세요: 1000\n",
            "10500원이 부족합니다. 돈을 더 넣어주세요\n",
            "-------------------------\n",
            "돈을 입력해주세요: 10000\n",
            "500원이 부족합니다. 돈을 더 넣어주세요\n",
            "-------------------------\n",
            "돈을 입력해주세요: 1500\n",
            "거스름돈은 1000원 입니다. 커피 맛있게 드세요~\n"
          ]
        }
      ]
    }
  ]
}