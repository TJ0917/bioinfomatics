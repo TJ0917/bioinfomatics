{
 "cells": [
  {
   "cell_type": "markdown",
   "metadata": {},
   "source": [
    "# 6.파일입출력"
   ]
  },
  {
   "cell_type": "markdown",
   "metadata": {},
   "source": [
    "## 01. 파일목록 및 파일경로"
   ]
  },
  {
   "cell_type": "markdown",
   "metadata": {},
   "source": [
    "### 현재 디렉토리에 있는 파일목록"
   ]
  },
  {
   "cell_type": "code",
   "execution_count": null,
   "metadata": {},
   "outputs": [],
   "source": [
    "import os\n",
    "\n",
    "print(os.listdir(os.getcwd()))"
   ]
  },
  {
   "cell_type": "markdown",
   "metadata": {},
   "source": [
    "### 디렉토리 위치 변경"
   ]
  },
  {
   "cell_type": "code",
   "execution_count": null,
   "metadata": {},
   "outputs": [],
   "source": [
    "import os\n",
    "\n",
    "dirname = '../'          #디렉토리 지정, './':현재 디렉토리, '../':이전(parent) 디렉토리\n",
    "os.chdir(dirname)       #디렉토리 변경\n",
    "path = os.getcwd()  #변경된 디렉토리 확인\n",
    "print(path)"
   ]
  },
  {
   "cell_type": "markdown",
   "metadata": {},
   "source": [
    "### 실습문제\n",
    "지정한 디렉토리의 파일 목록을 출력하는 프로그램을 함수로 만들어 보세요."
   ]
  },
  {
   "cell_type": "code",
   "execution_count": null,
   "metadata": {},
   "outputs": [],
   "source": [
    "import os\n",
    "'''\n",
    "※ 파이썬에서 디렉토리 표현방법 \n",
    " -  \"C:\\\\python\\\\bioinformatics\\\\test\", \n",
    " -  \"C:/python/bioinformatics/test\"\n",
    "'''\n",
    "#특정 디렉토리 위치로 변경\n",
    "def getDirList(dirname, printOption=False):\n",
    "    _add = ''\n",
    "    os.chdir(dirname)\n",
    "    path = os.getcwd()     \n",
    "    print('현재디렉토리 ==>', path)\n",
    "    print('-'*30)\n",
    "    return [path+'\\\\'+i if printOption==True else i for i in os.listdir(path) ]\n",
    "\n",
    "print(getDirList('./'))\n",
    "print(getDirList('C:/python/bioinformatics', True))\n",
    "print(getDirList('../', False))"
   ]
  },
  {
   "cell_type": "code",
   "execution_count": null,
   "metadata": {},
   "outputs": [],
   "source": [
    "os.chdir('C:/python/bioinformatics')\n",
    "print(os.getcwd())  #변경된 디렉토리 확인"
   ]
  },
  {
   "cell_type": "markdown",
   "metadata": {},
   "source": [
    "### 디렉토리 생성하기"
   ]
  },
  {
   "cell_type": "code",
   "execution_count": null,
   "metadata": {},
   "outputs": [],
   "source": [
    "#디렉토리 생성하기\n",
    "import os\n",
    " \n",
    "def createFolder(directory):\n",
    "    try:\n",
    "        if not os.path.exists(directory):\n",
    "            os.makedirs(directory)\n",
    "    except OSError:\n",
    "        print ('Error: Creating directory. ' +  directory)\n",
    "        \n",
    "dirname = 'C:/python/bioinformatics/test'   #  자신의 pc환경에 맞게\n",
    "createFolder(dirname)\n",
    "\n",
    "print(getDirList('./'))  # 현재 디렉토리 확인하기"
   ]
  },
  {
   "cell_type": "markdown",
   "metadata": {},
   "source": [
    "### 디렉토리 삭제하기"
   ]
  },
  {
   "cell_type": "code",
   "execution_count": null,
   "metadata": {},
   "outputs": [],
   "source": [
    "#디렉토리 삭제하기\n",
    "import os\n",
    " \n",
    "def deleteFolder(directory):\n",
    "    try:\n",
    "        if os.path.exists(directory):\n",
    "            os.rmdir(directory)\n",
    "    except OSError:\n",
    "        print ('Error: deleting directory. ' +  directory)\n",
    "\n",
    "dirname = 'C:/python/bioinformatics/test'   # '/Users/aaron/Desktop/test'      \n",
    "deleteFolder(dirname)\n",
    "\n",
    "print(getDirList('./'))  # 현재 디렉토리 확인하기"
   ]
  },
  {
   "cell_type": "markdown",
   "metadata": {},
   "source": [
    "--------"
   ]
  },
  {
   "cell_type": "markdown",
   "metadata": {},
   "source": [
    "## 02. 파일 입출력 (txt파일)"
   ]
  },
  {
   "cell_type": "markdown",
   "metadata": {},
   "source": [
    "내 시스템의 유니코드 확인하기"
   ]
  },
  {
   "cell_type": "code",
   "execution_count": null,
   "metadata": {
    "scrolled": true
   },
   "outputs": [],
   "source": [
    "import sys\n",
    "print(sys.stdin.encoding)\n",
    "print(sys.stdout.encoding)"
   ]
  },
  {
   "cell_type": "markdown",
   "metadata": {},
   "source": [
    "### txt 파일 기본 입출력"
   ]
  },
  {
   "cell_type": "markdown",
   "metadata": {},
   "source": [
    "#### 파일 생성 및 파일에 쓰기"
   ]
  },
  {
   "cell_type": "code",
   "execution_count": null,
   "metadata": {},
   "outputs": [],
   "source": [
    "#파일을 열어(쓰기 모드’w’) 파일에 쓰기\n",
    "f = open('test.txt','w')\n",
    "for i in range(1,11):\n",
    "    f.write('%d 번째 줄입니다.\\n'% i)\n",
    "f.close()"
   ]
  },
  {
   "cell_type": "markdown",
   "metadata": {},
   "source": [
    "#### 파일에서 1줄 읽어서 화면에 출력하기"
   ]
  },
  {
   "cell_type": "code",
   "execution_count": null,
   "metadata": {
    "scrolled": true
   },
   "outputs": [],
   "source": [
    "#파일을 열어(읽기 모드’r’) 1줄 읽어서 화면에 출력하기\n",
    "#readline(): \n",
    "f = open('test.txt','r')\n",
    "line = f.readline()\n",
    "print(line)\n",
    "f.close()"
   ]
  },
  {
   "cell_type": "markdown",
   "metadata": {},
   "source": [
    "#### 파일에서 모두 읽어서 화면에 출력하기"
   ]
  },
  {
   "cell_type": "markdown",
   "metadata": {},
   "source": [
    "- **readline()**"
   ]
  },
  {
   "cell_type": "code",
   "execution_count": null,
   "metadata": {},
   "outputs": [],
   "source": [
    "#파일을 열어(읽기 모드’r’) 모두 읽어서 화면에 출력하기\n",
    "#readline(): \n",
    "f = open('test.txt','r')\n",
    "while True:\n",
    "    line = f.readline()\n",
    "    if not line: break\n",
    "    print(line.strip())\n",
    "#     print(line.strip())   # 라인 맨 끝에 있는 공백문자나 개행문자(\\n) 제거하기\n",
    "f.close()"
   ]
  },
  {
   "cell_type": "markdown",
   "metadata": {},
   "source": [
    "- **readlines()**"
   ]
  },
  {
   "cell_type": "code",
   "execution_count": null,
   "metadata": {
    "scrolled": true
   },
   "outputs": [],
   "source": [
    "#readlines(): \n",
    "f = open('test.txt','r')\n",
    "for line in f.readlines():\n",
    "    print(line.strip())\n",
    "f.close()"
   ]
  },
  {
   "cell_type": "markdown",
   "metadata": {},
   "source": [
    "- **read()**"
   ]
  },
  {
   "cell_type": "code",
   "execution_count": null,
   "metadata": {},
   "outputs": [],
   "source": [
    "#read()\n",
    "f = open('test.txt','r')\n",
    "data = f.read()\n",
    "print(data)\n",
    "f.close()"
   ]
  },
  {
   "cell_type": "markdown",
   "metadata": {},
   "source": [
    "#### 파일에 이어서 쓰기"
   ]
  },
  {
   "cell_type": "code",
   "execution_count": null,
   "metadata": {},
   "outputs": [],
   "source": [
    "#파일을 열어(쓰기 모드’a’) 파일에 이어서 쓰기\n",
    "f = open('test.txt','a')\n",
    "for i in range(11,21):\n",
    "    f.write('%d 번째 줄입니다.\\n'% i)\n",
    "f.close()"
   ]
  },
  {
   "cell_type": "markdown",
   "metadata": {},
   "source": [
    "### with문 사용해서 파일 입출력"
   ]
  },
  {
   "cell_type": "code",
   "execution_count": null,
   "metadata": {},
   "outputs": [],
   "source": [
    "with open(\"C:/python/bioinformatics/test.txt\", 'w') as f:\n",
    "    for i in range(1,11):\n",
    "        f.write('%d 번째 줄입니다.\\n'% i)\n",
    "    f.write('--end---\\n')"
   ]
  },
  {
   "cell_type": "code",
   "execution_count": null,
   "metadata": {},
   "outputs": [],
   "source": [
    "with open(\"C:/python/bioinformatics/test.txt\", 'r+') as f:\n",
    "    data = f.read()\n",
    "    print(data)\n",
    "    data = data.replace(\"줄\",\"사람\")\n",
    "    print(data)\n",
    "    f.write(data)\n"
   ]
  },
  {
   "cell_type": "markdown",
   "metadata": {},
   "source": [
    "### 파일 삭제하고 싶을 때"
   ]
  },
  {
   "cell_type": "code",
   "execution_count": null,
   "metadata": {},
   "outputs": [],
   "source": [
    "import os\n",
    "\n",
    "file = \"C:/python/bioinformatics/test.txt\"\n",
    "if os.path.isfile(file):   #파일이 존재하면\n",
    "    os.remove(file)        #파일 삭제하기\n",
    "    if not os.path.isfile(file):\n",
    "        print('[%s] 파일이 삭제되었습니다.'% file)\n",
    "    else:\n",
    "        print(\"파일 삭제 오류!!\")\n",
    "else:\n",
    "    print(\"파일이 존재하지 않습니다!\")"
   ]
  },
  {
   "cell_type": "markdown",
   "metadata": {},
   "source": [
    "### 파일 복제하기"
   ]
  },
  {
   "cell_type": "code",
   "execution_count": null,
   "metadata": {},
   "outputs": [],
   "source": [
    "# 파일을 복사해 주는 모듈\n",
    "import shutil\n",
    "shutil.copy('data/book.txt', 'data/book_copy.txt')"
   ]
  },
  {
   "cell_type": "markdown",
   "metadata": {},
   "source": [
    "### 실습문제\n",
    "파일(sample.txt)을 만들어 그 파일에 1~100사이의 임의의 정수를 10개 출력하세요"
   ]
  },
  {
   "cell_type": "code",
   "execution_count": null,
   "metadata": {},
   "outputs": [],
   "source": [
    "import random\n",
    "\n",
    "f = open('data/sample.txt', 'w')\n",
    "\n",
    "for i in range(10):\n",
    "    num = str(random.randint(1,100))\n",
    "    f.write(num+'\\n')\n",
    "f.close()"
   ]
  },
  {
   "cell_type": "code",
   "execution_count": null,
   "metadata": {},
   "outputs": [],
   "source": [
    "import random\n",
    "\n",
    "with open('data/sample.txt', 'w') as f:\n",
    "    [f.write(str(random.randint(1,100))+'\\n') \n",
    "        for i in range(10)]"
   ]
  },
  {
   "cell_type": "markdown",
   "metadata": {},
   "source": [
    "### 실습문제\n",
    "앞에서 생성시킨 파일(sample.txt)에 있는 10개의 데이터를 읽은 후 총합과 평균값을 구하여 화면과 (result.txt) 파일에 각각 출력하세요"
   ]
  },
  {
   "cell_type": "code",
   "execution_count": null,
   "metadata": {},
   "outputs": [],
   "source": [
    "hap, avg = 0, 0 \n",
    "\n",
    "f1 = open('data/sample.txt', 'r')\n",
    "f2 = open(\"data/result.txt\", 'w')\n",
    "\n",
    "lines = f1.readlines()\n",
    "\n",
    "for line in lines:\n",
    "    hap += int(line)\n",
    "avg = hap / len(lines)\n",
    "\n",
    "sentence = f'총합은 {hap} 입니다.\\n평균은 {avg} 입니다'\n",
    "print(sentence)\n",
    "f2.write(sentence)\n",
    "\n",
    "f1.close()\n",
    "f2.close()"
   ]
  },
  {
   "cell_type": "code",
   "execution_count": null,
   "metadata": {},
   "outputs": [],
   "source": [
    "hap, avg = 0, 0 \n",
    "with open('data/sample.txt', 'r') as f1:\n",
    "    data = [int(line) for line in f1.readlines()]\n",
    "    hap = sum(data)\n",
    "    avg = hap/len(data)\n",
    "context = f'{data}의 \\n총합은 {hap} 입니다.\\n평균은 {avg} 입니다.'    \n",
    "print(context)\n",
    "    \n",
    "with open(\"data/result.txt\", 'w') as f2:\n",
    "    f2.write(context)   \n",
    "    "
   ]
  },
  {
   "cell_type": "markdown",
   "metadata": {},
   "source": [
    "### 실습문제\n",
    "(article.txt) 파일을 읽어 딕셔너리 key에 해당하는 단어를 value값으로 대체하여 (result2.txt) 파일에 출력하세요.\n"
   ]
  },
  {
   "cell_type": "code",
   "execution_count": null,
   "metadata": {},
   "outputs": [],
   "source": [
    "dicText = {'13':'20',\n",
    "           '토트넘':'맨체스터유나이티드',\n",
    "           '해리 케인':'박지성',\n",
    "           '손흥민':'이승우'}\n",
    "\n",
    "with open('data/article.txt', 'r', encoding='UTF-8') as f1:\n",
    "    data = f1.read()\n",
    "\n",
    "with open(\"data/result2.txt\", 'w') as f2:\n",
    "    print('[[변경전]]\\n' + data)\n",
    "    for key in dicText.keys():\n",
    "        data = data.replace(key, dicText[key])\n",
    "        \n",
    "    print('-'*50)       \n",
    "    print('[[변경후]]:\\n ' + data) \n",
    "    f2.write(data)  #string데이터 형식으로 저장해야한다.\n"
   ]
  },
  {
   "cell_type": "markdown",
   "metadata": {},
   "source": [
    "### 실습문제: 팀 만들어 수강생 나누기\n",
    " - (members.txt) 파일에 있는 수강생 데이터를 읽은 후 리스트로 만들고\n",
    " - 리스트를 섞은 후\n",
    " - 팀당 3명의 수강생 만들어 { 팀명: [수강생] } 딕셔너리 형태로 만들고\n",
    " - 화면과 (teams.txt) 파일로 출력하세요. ex) 팀명: 수강생명 (,쉼표로 분리)\n",
    " - 팀명은 서로 연관성 있는 이름(과일, 야채, 동물 등)으로 구성된 리스트에서 임의로 부여되도록 한다.\n",
    " - 가장 많은 생명을 구한 과학자: 출처 : 헬로디디(http://www.hellodd.com) <br>\n",
    "   프리츠_하버, 칼_란드슈타이너, 에드워드_제너, 노먼_볼로그, 아벨_월먼, 빌_포그"
   ]
  },
  {
   "cell_type": "code",
   "execution_count": null,
   "metadata": {},
   "outputs": [],
   "source": [
    "#팀 만들어 수강생 나누기\n",
    "import random\n",
    "\n",
    "rfname = 'data/members.txt' \n",
    "wfname = 'data/teams.txt'\n",
    "teams = ['프리츠_하버', '칼_란드슈타이너', '에드워드_제너', \n",
    "         '노먼_볼로그', '아벨_월먼', '빌_포그',\n",
    "        '키위','메론','포도','버찌','야자',\n",
    "        '복숭아','레몬','수박','망고','홍시',\n",
    "        '머루','자몽','살구','리치','다래']\n",
    "teamDic = dict()\n",
    "\n",
    "def makeMembers(fname):\n",
    "    with open(fname, 'r', encoding='utf-8') as f:        \n",
    "        return [ member.replace('\\n','') for member in f.readlines()]\n",
    "    \n",
    "def makeTeamMembers(fname, teams, members, cnt=3): \n",
    "    global teamDic\n",
    "\n",
    "    members = ' '.join(members).split()   #리스트에서 공백 제거하기\n",
    "    random.shuffle(members)               #리스트 섞기\n",
    "    print('--팀원수:',len(members))\n",
    "    with open(fname, 'w', encoding='utf-8') as f: \n",
    "        for team in teams:\n",
    "            if len(members) == 0: break\n",
    "            tmp = []\n",
    "            for i in range(cnt):          #4명식 구성하기\n",
    "                if len(members) > 0: \n",
    "                    member = random.choice(members)\n",
    "                    tmp.append(member)\n",
    "                    members.remove(member)\n",
    "                else:\n",
    "                    break\n",
    "            if tmp : teamDic[team] = tmp\n",
    "            f.write(f\"{team} : {' '.join(tmp)}\\n\")   #파일에 쓰기            \n",
    "\n",
    "    return teamDic\n",
    "\n",
    "teamDic = makeTeamMembers( wfname, teams, makeMembers(rfname) )\n",
    "print('--팀개수:',len(teamDic),'\\n', teamDic)"
   ]
  },
  {
   "cell_type": "markdown",
   "metadata": {},
   "source": [
    " - 딕셔너리 형태 그대로 파일로 저장하고 \n",
    " - 파일을 그대로 읽어 딕셔너리 형태 그대로 출력하기"
   ]
  },
  {
   "cell_type": "code",
   "execution_count": null,
   "metadata": {},
   "outputs": [],
   "source": [
    "#데이터형태(딕셔너리) 그대로 저장하고 그대로 읽어오기\n",
    "#(파일을 직접 읽으면 한글이 깨져서 보인다.)\n",
    "import pickle\n",
    "\n",
    "with open('data/teamDic.txt', 'wb') as f:  #binary형태로 저장한다.\n",
    "    pickle.dump(teamDic, f)  # 딕셔너리 형태로 그래도 저장하고\n",
    "    \n",
    "with open('data/teamDic.txt', 'rb') as f:  #binary데이터로 읽는다\n",
    "    print(pickle.load(f))  "
   ]
  },
  {
   "cell_type": "markdown",
   "metadata": {},
   "source": [
    "### 실습문제\n",
    "단어 빈도수 세기"
   ]
  },
  {
   "cell_type": "code",
   "execution_count": null,
   "metadata": {},
   "outputs": [],
   "source": [
    "#단어 빈도수 세기\n",
    "#출처: https://korbillgates.tistory.com/171 [생물정보학자의 블로그]\n",
    "        \n",
    "## 단어의 빈도수를 카운트 할 dictionary 를 만듭니다\n",
    "word_dic = {}\n",
    " \n",
    "## 텍스트 파일을 한 줄씩 읽어서\n",
    "with open(\"data/hamlet.txt\",'r') as f:\n",
    "    for line in f:\n",
    "        ## 한 줄을 소문자로 만들고 공백으로 잘라서 for 문으로 하나씩 뽑습니다\n",
    "        for word in line.lower().strip().split():\n",
    "            ## 단어가 dictionary에 등록 되어 있다면 카운트를 올려주고\n",
    "            if word in word_dic:\n",
    "                word_dic[word] += 1\n",
    "            ## 단어가 dictionary에 없다면 등록하고 카운트를 1로 등록합니다.\n",
    "            else:\n",
    "                word_dic[word] = 1\n",
    " \n",
    "## sorted 함수로 dictionary의 items() 메서드로 반환된 튜플을 정렬해 줍니다\n",
    "word_list = sorted(word_dic.items(), key=lambda x: x[1], reverse=True)\n",
    " \n",
    "## 상위 10개를 뽑아 봤습니다\n",
    "print(word_list[:20])"
   ]
  },
  {
   "cell_type": "markdown",
   "metadata": {},
   "source": [
    "-----"
   ]
  },
  {
   "cell_type": "markdown",
   "metadata": {},
   "source": [
    "## 03. csv 파일 읽고 쓰기: pandas"
   ]
  },
  {
   "cell_type": "code",
   "execution_count": null,
   "metadata": {},
   "outputs": [],
   "source": [
    "# pandas 설치하기\n",
    "!pip install pandas"
   ]
  },
  {
   "cell_type": "markdown",
   "metadata": {},
   "source": [
    "### csv 파일 읽기"
   ]
  },
  {
   "cell_type": "code",
   "execution_count": null,
   "metadata": {
    "scrolled": false
   },
   "outputs": [],
   "source": [
    "import pandas as pd\n",
    "\n",
    "# df = pd.read_csv('data/members.csv')\n",
    "df = pd.read_csv('data/members.csv', encoding='euc-kr', header=None) \n",
    "df = pd.read_csv('data/members.csv', encoding='cp949', header=None) \n",
    "df.columns = ['번호','이름']\n",
    "df\n",
    "\n",
    "# 하나씩 실행시켜 보세요.\n",
    "# print(df.head(3))    # 데이터 3개 가져오기\n",
    "# print(df[:2])      # row행 접근(인텍스)\n",
    "# print(df.columns[1]) # column열 접근(인덱스)\n",
    "# print(df.loc[3,df.columns[1]])  # 특정 행, 열로 접근(index)\n",
    "# print(df.shape)      # (38, 2) 데이터 크기\n",
    "# print(len(df))       # 2   데이터 행 크기"
   ]
  },
  {
   "cell_type": "markdown",
   "metadata": {},
   "source": [
    "### csv 파일로 저장\n",
    " - DataFrame 형태의 데이터로 만든 후 파일에 써야한다.\n",
    " - DataFrame: 2차원 리스트(행, 렬) 데이터로 만든다."
   ]
  },
  {
   "cell_type": "code",
   "execution_count": null,
   "metadata": {},
   "outputs": [],
   "source": [
    "df.to_csv('data/teammember.csv')"
   ]
  },
  {
   "cell_type": "markdown",
   "metadata": {},
   "source": [
    "### pandas로 csv 파일 읽고,  csv파일 쓰기"
   ]
  },
  {
   "cell_type": "code",
   "execution_count": null,
   "metadata": {
    "scrolled": true
   },
   "outputs": [],
   "source": [
    "# csv 파일 읽고,  csv파일 쓰기\n",
    "import pandas as pd\n",
    "import random \n",
    "\n",
    "file1 = 'data/members.csv'\n",
    "file2 = 'data/teammember.csv'\n",
    "file3 = 'data/memberteams.csv'\n",
    "\n",
    "# 멤버리스트 만들기\n",
    "def getMemberList(df):\n",
    "    members = []\n",
    "    for i in range(len(df)):\n",
    "        tmp = df.loc[i,df.columns[1]] #이름만 추출\n",
    "        members.append(tmp)           #리스트에 이름 넣기\n",
    "    return members\n",
    "\n",
    "# 리스트 섞기\n",
    "def memberShuffle(dt):\n",
    "    return random.shuffle(dt)\n",
    "    \n",
    "# 팀:멤버 만들기(2차원 리스트 만들기)    \n",
    "def makeTeamMember(dt):\n",
    "    teamMember, memberTeam, tmp = [], [], []    \n",
    "    cnt, team, div = 0, 1, 3   \n",
    "    while True:  \n",
    "        if len(dt) == cnt:  #종료조건\n",
    "            break\n",
    "            \n",
    "        tmp.append(dt[cnt])\n",
    "        memberTeam.append([team,dt[cnt]]) \n",
    "        cnt += 1\n",
    "        \n",
    "        if cnt%div == 0:   #팀번호 변경 \n",
    "            tmp.insert(0,team)\n",
    "            teamMember.append(tmp)\n",
    "            team += 1\n",
    "            tmp = []\n",
    "\n",
    "    if tmp :\n",
    "        tmp.insert(0,team)\n",
    "        teamMember.append(tmp)\n",
    "        \n",
    "    return teamMember, memberTeam\n",
    "\n",
    "# csv파일 읽어 리스트 만들기\n",
    "df = pd.read_csv(file1, sep=',', index_col=False, encoding='cp949', header=None)     #파일 읽기\n",
    "members = getMemberList(df) #리스트로 만들기\n",
    "memberShuffle(members)      #리스트 섞기\n",
    "teamMember, memberTeam = makeTeamMember(members)#리스트 만들기\n",
    "\n",
    "# csv파일로 저장하기 위해 DataFrame으로 만들기\n",
    "df = pd.DataFrame(teamMember)\n",
    "df.rename(columns={0:'team'}, inplace = True)\n",
    "df.to_csv(file2, encoding='utf-8-sig', index=False)\n",
    "\n",
    "df.rename(columns={0:'team',1:'name'}, inplace=True)\n",
    "df = pd.DataFrame(memberTeam)\n",
    "df.to_csv(file3, encoding='utf-8-sig', index=False)\n",
    "\n",
    "df = pd.read_csv(file2)\n",
    "df"
   ]
  },
  {
   "cell_type": "code",
   "execution_count": null,
   "metadata": {},
   "outputs": [],
   "source": []
  }
 ],
 "metadata": {
  "kernelspec": {
   "display_name": "Python 3 (ipykernel)",
   "language": "python",
   "name": "python3"
  },
  "language_info": {
   "codemirror_mode": {
    "name": "ipython",
    "version": 3
   },
   "file_extension": ".py",
   "mimetype": "text/x-python",
   "name": "python",
   "nbconvert_exporter": "python",
   "pygments_lexer": "ipython3",
   "version": "3.10.9"
  }
 },
 "nbformat": 4,
 "nbformat_minor": 4
}
