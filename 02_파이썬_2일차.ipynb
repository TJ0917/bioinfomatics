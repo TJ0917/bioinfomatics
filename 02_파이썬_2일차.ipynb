{
  "nbformat": 4,
  "nbformat_minor": 0,
  "metadata": {
    "colab": {
      "provenance": [],
      "authorship_tag": "ABX9TyPUX9i3iXAi/n4RzQ2QjATP",
      "include_colab_link": true
    },
    "kernelspec": {
      "name": "python3",
      "display_name": "Python 3"
    },
    "language_info": {
      "name": "python"
    }
  },
  "cells": [
    {
      "cell_type": "markdown",
      "metadata": {
        "id": "view-in-github",
        "colab_type": "text"
      },
      "source": [
        "<a href=\"https://colab.research.google.com/github/TJ0917/bioinfomatics/blob/main/02_%ED%8C%8C%EC%9D%B4%EC%8D%AC_2%EC%9D%BC%EC%B0%A8.ipynb\" target=\"_parent\"><img src=\"https://colab.research.google.com/assets/colab-badge.svg\" alt=\"Open In Colab\"/></a>"
      ]
    },
    {
      "cell_type": "code",
      "execution_count": null,
      "metadata": {
        "colab": {
          "base_uri": "https://localhost:8080/"
        },
        "id": "rQbe5lpVpJBZ",
        "outputId": "a1db1323-9a58-4c31-e61c-6db5c0462e61"
      },
      "outputs": [
        {
          "output_type": "stream",
          "name": "stdout",
          "text": [
            "길이를 입력해주세요100\n",
            "너비를 입력해주세요20\n",
            "길이: 100\n",
            "너비: 20\n",
            "면적: 100*20=2000\n",
            "둘레: 100*2+20*2=240\n"
          ]
        }
      ],
      "source": [
        "a = int(input('길이를 입력해주세요'))\n",
        "b = int(input('너비를 입력해주세요'))\n",
        "\n",
        "print('길이:',a)\n",
        "print('너비:',b)\n",
        "\n",
        "area = print(f'면적: {a}*{b}={a*b}')\n",
        "peri = print(f'둘레: {a}*2+{b}*2={a*2+b*2}')"
      ]
    },
    {
      "cell_type": "code",
      "source": [
        "### 문자열 인덱싱\n",
        "#인덱스(자리) 순서는 무조건 0~ , or 거꾸로 앞에서부터 -1~\n",
        "#슬라이싱 a[시작번호:끝번호] 시작번호는 포함, 끝번호는 포함 안됨.\n",
        "#%s = 오른쪽 정렬 문자열 의미, %-s = 왼쪽 정렬 %#s = #자리 문자열. ex) %10s = 10자리 str\n",
        "\n",
        "'%10s'%'pyhton'\n",
        "'%-10s파이썬'%'사랑해요'\n",
        "'%0.4f'%3.4213423\n",
        "'%10.7f'%3.4213423\n",
        "\n",
        "'I eat {0} apples'.format(3)\n",
        "\n",
        "no=7\n",
        "'I eat {0} apples'.format(no)\n",
        "\n",
        "'I ate {0} apples, So I\\'m {1}.'.format(10,'hungry')\n"
      ],
      "metadata": {
        "colab": {
          "base_uri": "https://localhost:8080/",
          "height": 35
        },
        "id": "bLrbemjirnXV",
        "outputId": "314768b4-fc64-4044-844b-2c2cf2380423"
      },
      "execution_count": null,
      "outputs": [
        {
          "output_type": "execute_result",
          "data": {
            "text/plain": [
              "\"I ate 10 apples, So I'm hungry.\""
            ],
            "application/vnd.google.colaboratory.intrinsic+json": {
              "type": "string"
            }
          },
          "metadata": {},
          "execution_count": 37
        }
      ]
    },
    {
      "cell_type": "code",
      "source": [
        "\"{0:$^10}\".format(\"파이썬\")"
      ],
      "metadata": {
        "colab": {
          "base_uri": "https://localhost:8080/",
          "height": 35
        },
        "id": "vSG9rLxizwaN",
        "outputId": "0f11e3db-2975-426a-ccc6-53bd4eb3da8b"
      },
      "execution_count": null,
      "outputs": [
        {
          "output_type": "execute_result",
          "data": {
            "text/plain": [
              "'$$$파이썬$$$$'"
            ],
            "application/vnd.google.colaboratory.intrinsic+json": {
              "type": "string"
            }
          },
          "metadata": {},
          "execution_count": 40
        }
      ]
    },
    {
      "cell_type": "code",
      "source": [
        "###카운팅 함수\n",
        "#count 문자 개수 세기\n",
        "#find, index 위치 알려주기\n",
        "\n",
        "a = 'abcdefghijklmnopqrstuvwxyz'\n",
        "\n",
        "a.find('c')\n",
        "a.index('c')\n",
        "\n",
        "b='His name is Sam'\n",
        "b.find('s')\n",
        "b.find('S')\n",
        "b.index('i')\n",
        "b.index('m')\n",
        "b.find('t')\n"
      ],
      "metadata": {
        "colab": {
          "base_uri": "https://localhost:8080/"
        },
        "id": "GUGMuXXR0Ggj",
        "outputId": "8584c4eb-8364-47be-a8d3-f250e9672b13"
      },
      "execution_count": null,
      "outputs": [
        {
          "output_type": "execute_result",
          "data": {
            "text/plain": [
              "-1"
            ]
          },
          "metadata": {},
          "execution_count": 77
        }
      ]
    },
    {
      "cell_type": "code",
      "source": [
        "#join() 문자열 삽입\n",
        "a='@'\n",
        "a.join('alpha')"
      ],
      "metadata": {
        "colab": {
          "base_uri": "https://localhost:8080/",
          "height": 35
        },
        "id": "Ig5tUXtD11p0",
        "outputId": "7a674cdf-2e55-456b-edef-6ef05415ba5f"
      },
      "execution_count": null,
      "outputs": [
        {
          "output_type": "execute_result",
          "data": {
            "text/plain": [
              "'a@l@p@h@a'"
            ],
            "application/vnd.google.colaboratory.intrinsic+json": {
              "type": "string"
            }
          },
          "metadata": {},
          "execution_count": 55
        }
      ]
    },
    {
      "cell_type": "code",
      "source": [
        "#upper() lower() (소문자>대문자, 대문자>소문자)\n",
        "a='pyTHon'\n",
        "a.upper()\n",
        "\n",
        "a='PYthON'\n",
        "a.lower()"
      ],
      "metadata": {
        "colab": {
          "base_uri": "https://localhost:8080/",
          "height": 35
        },
        "id": "QUI8zdPO2OoS",
        "outputId": "6df24efc-691a-4994-a5a7-a725970247a7"
      },
      "execution_count": null,
      "outputs": [
        {
          "output_type": "execute_result",
          "data": {
            "text/plain": [
              "'python'"
            ],
            "application/vnd.google.colaboratory.intrinsic+json": {
              "type": "string"
            }
          },
          "metadata": {},
          "execution_count": 59
        }
      ]
    },
    {
      "cell_type": "code",
      "source": [
        "#strip() lstrip() rstrip() (공백, 왼공백, 오른공백 지우기)\n",
        "a='     파이썬 파이투    '\n",
        "a.strip()"
      ],
      "metadata": {
        "colab": {
          "base_uri": "https://localhost:8080/",
          "height": 35
        },
        "id": "00VycMei2TLW",
        "outputId": "e94d2e3c-93a8-413c-b859-ccf81b8d2091"
      },
      "execution_count": null,
      "outputs": [
        {
          "output_type": "execute_result",
          "data": {
            "text/plain": [
              "'파이썬 파이투'"
            ],
            "application/vnd.google.colaboratory.intrinsic+json": {
              "type": "string"
            }
          },
          "metadata": {},
          "execution_count": 80
        }
      ]
    },
    {
      "cell_type": "code",
      "source": [
        "#replace('a','b') (replace a with b)\n",
        "a='My name is python'\n",
        "a.replace('python','TJ')"
      ],
      "metadata": {
        "colab": {
          "base_uri": "https://localhost:8080/",
          "height": 35
        },
        "id": "2oB8rVEL2c_B",
        "outputId": "8b792628-73a9-4792-8eb2-c96d57b56fd8"
      },
      "execution_count": null,
      "outputs": [
        {
          "output_type": "execute_result",
          "data": {
            "text/plain": [
              "'My name is TJ'"
            ],
            "application/vnd.google.colaboratory.intrinsic+json": {
              "type": "string"
            }
          },
          "metadata": {},
          "execution_count": 63
        }
      ]
    },
    {
      "cell_type": "code",
      "source": [
        "#split 문자열 나누기\n",
        "a='life is too long'\n",
        "a.split()\n",
        "\n",
        "b='a,b,c,d'\n",
        "b.split('.')"
      ],
      "metadata": {
        "colab": {
          "base_uri": "https://localhost:8080/"
        },
        "id": "7JyptcE22wQ2",
        "outputId": "650fe729-1d7c-4459-b2fb-585463271020"
      },
      "execution_count": null,
      "outputs": [
        {
          "output_type": "execute_result",
          "data": {
            "text/plain": [
              "['a,b,c,d']"
            ]
          },
          "metadata": {},
          "execution_count": 64
        }
      ]
    },
    {
      "cell_type": "code",
      "source": [
        "###문자열을 입력받아 거꾸로 출력하기\n",
        "\n",
        "#[공백시 시작부터:공백시 끝까지:증감])\n",
        "s=input('문자열을 입력하세요:')\n",
        "print(s[::-1])\n",
        "print(s[::2])"
      ],
      "metadata": {
        "colab": {
          "base_uri": "https://localhost:8080/"
        },
        "id": "BJMTeC8Q9Ds7",
        "outputId": "84f0405a-56c3-43d9-c773-8fc9ee939e67"
      },
      "execution_count": null,
      "outputs": [
        {
          "output_type": "stream",
          "name": "stdout",
          "text": [
            "문자열을 입력하세요:가나다라마바사\n",
            "가다마사\n"
          ]
        }
      ]
    },
    {
      "cell_type": "code",
      "source": [
        "#파일명과 확장자 분리하기\n",
        "a=input('파일을 입력하세요:')\n",
        "print('파일:',a)\n",
        "b=a.split('.')\n",
        "print('파일명:',b[0]+',')\n",
        "print('확장자:',b[1])"
      ],
      "metadata": {
        "colab": {
          "base_uri": "https://localhost:8080/"
        },
        "id": "4XAHaOjYASjW",
        "outputId": "ace2962d-661d-44cc-bb63-ea7d6d8c227a"
      },
      "execution_count": null,
      "outputs": [
        {
          "output_type": "stream",
          "name": "stdout",
          "text": [
            "파일을 입력하세요:print.pr\n",
            "파일: print.pr\n",
            "파일명: print,\n",
            "확장자: pr\n"
          ]
        }
      ]
    },
    {
      "cell_type": "code",
      "source": [
        "###날짜와 시간관련 모듈: datetime\n",
        "\n",
        "import sys\n",
        "sys.path\n",
        "\n",
        "import datetime\n",
        "\n",
        "now=str(datetime.datetime.now())\n",
        "print(f'값: ',datetime.datetime.now())\n",
        "print(f'자료형: ',type(now))\n",
        "\n",
        "print(f'지금 시각은 {now[0:4]}년 {now[5:7]}월 {now[8:10]}일 {now[11:13]}시 {now[14:16]}분 {now[17:19]}초 입니다.')\n"
      ],
      "metadata": {
        "colab": {
          "base_uri": "https://localhost:8080/"
        },
        "id": "nIeMxf-oDTv1",
        "outputId": "7cacf9bd-fd0d-40af-d4fd-abdb78dc0edd"
      },
      "execution_count": null,
      "outputs": [
        {
          "output_type": "stream",
          "name": "stdout",
          "text": [
            "값:  2023-08-08 03:13:41.230373\n",
            "자료형:  <class 'str'>\n",
            "지금 시각은 2023년 08월 08일 03시 13분 41초 입니다.\n"
          ]
        }
      ]
    },
    {
      "cell_type": "code",
      "source": [
        "import datetime\n",
        "\n",
        "now = datetime.datetime.now()\n",
        "\n",
        "now.strftime('%Y년 %m월 %d일')\n",
        "now.strftime('%H시 %M분 %S초')\n",
        "\n",
        "print(now.strftime('지금 시각은 %Y년 %m월 %d일 %H시 %M분 %S초 입니다.'))"
      ],
      "metadata": {
        "colab": {
          "base_uri": "https://localhost:8080/"
        },
        "id": "x3tswPzhItsa",
        "outputId": "18c42d2b-bd74-4b17-aa57-d1f696f53dd8"
      },
      "execution_count": null,
      "outputs": [
        {
          "output_type": "stream",
          "name": "stdout",
          "text": [
            "지금 시간은 2023년 08월 08일 03시 18분 10초 입니다.\n"
          ]
        }
      ]
    },
    {
      "cell_type": "code",
      "source": [
        "import urllib.request\n",
        "import ssl\n",
        "\n",
        "ctx = ssl._create_unverified_context()\n",
        "\n",
        "#환율정보 페이지 불러오기\n",
        "print(\"[환율정보 불러오기]\")\n",
        "URL = \"https://search.naver.com/search.naver?where=nexearch&sm=top_hty&fbm=1&ie=utf8&query=%ED%99%98%EC%9C%A8\"\n",
        "page = urllib.request.urlopen(URL, context=ctx)\n",
        "text = page.read().decode(\"utf8\")  # 해당 페이지의 소스코드\n",
        "# print(text)\n",
        "\n",
        "#환율정보 가져오기: 기준시간\n",
        "searchText = 'class=\"grp_info\"> <em>'\n",
        "where      = text.find(searchText)  #소스코드에서 해당 문자열의 시작위치\n",
        "(f'위치: {where}')\n",
        "(f'searchText 길이: {len(searchText)}')\n",
        "start=where+len(searchText)\n",
        "end=where+len(searchText)+16\n",
        "targetInfo = text[where+len(searchText):where+len(searchText)+16]\n",
        "print(f'-환율기준시간: {targetInfo}')\n",
        "\n",
        "#환율정보 가져오기: 달러\n",
        "searchText = '<span>미국 <em>USD</em></span></a></th> <td><span>'\n",
        "where      = text.find(searchText)\n",
        "targetInfo = text[where+len(searchText):where+len(searchText)+8]\n",
        "print(f'-달러: {targetInfo}')\n",
        "\n",
        "#환율정보 가져오기: 유로\n",
        "searchText = '<span>유럽연합 <em>EUR</em></span></a></th> <td><span>'\n",
        "where      = text.find(searchText)\n",
        "targetInfo = text[where+len(searchText):where+len(searchText)+8]\n",
        "print(f'-유로: {targetInfo}')\n",
        "\n",
        "#환율정보 가져오기: 위안\n",
        "searchText = '<span>중국 <em>CNY</em></span></a></th> <td><span>'\n",
        "where      = text.find(searchText)\n",
        "targetInfo = text[where+len(searchText):where+len(searchText)+6]\n",
        "print(f'-위안: {targetInfo}')\n",
        "\n",
        "#환율정보 가져오기: 파운드\n",
        "searchText = '<span>영국 <em>GBP</em></span></a></th> <td><span>'\n",
        "where      = text.find(searchText)\n",
        "targetInfo = text[where+len(searchText):where+len(searchText)+8]\n",
        "print(f'-파운드: {targetInfo}')\n",
        "\n",
        "#환율정보 가져오기: 엔화\n",
        "searchText = '<span>일본 <em>JPY 100</em></span></a></th> <td><span>'\n",
        "where      = text.find(searchText)\n",
        "targetInfo = text[where+len(searchText):where+len(searchText)+6]\n",
        "print(f'-엔화: {targetInfo}')\n",
        "#-----------------------------------------------------------------\n"
      ],
      "metadata": {
        "colab": {
          "base_uri": "https://localhost:8080/"
        },
        "id": "RWhsMttOJ3cG",
        "outputId": "fb7def1b-4410-45dc-d370-97d2d535b22e"
      },
      "execution_count": null,
      "outputs": [
        {
          "output_type": "stream",
          "name": "stdout",
          "text": [
            "[환율정보 불러오기]\n",
            "-환율기준시간: 2023.08.08 12:49\n",
            "-달러: 1,313.70\n",
            "-유로: 1,442.84\n",
            "-위안: 181.91\n",
            "-파운드: 1,675.56\n",
            "-엔화: 916.56\n"
          ]
        }
      ]
    },
    {
      "cell_type": "code",
      "source": [
        "#파이썬 웹크롤링\n"
      ],
      "metadata": {
        "id": "0G8twAlCRYM7"
      },
      "execution_count": null,
      "outputs": []
    },
    {
      "cell_type": "code",
      "source": [
        "num1=3\n",
        "num2=7\n",
        "a=[1,2,3,4,5]\n",
        "\n",
        "print(num1 in a)\n",
        "print(num2 in a)\n",
        "print(num1 not in a)"
      ],
      "metadata": {
        "id": "YYFlmci_dpYg",
        "colab": {
          "base_uri": "https://localhost:8080/"
        },
        "outputId": "f89a5003-8481-4804-8b58-839cede021a9"
      },
      "execution_count": 154,
      "outputs": [
        {
          "output_type": "stream",
          "name": "stdout",
          "text": [
            "True\n",
            "False\n",
            "False\n"
          ]
        }
      ]
    },
    {
      "cell_type": "code",
      "source": [
        "##동전교환 프로그램\n",
        "\n",
        "a=int(input('동전으로 교환할 금액을 입력하세요:'))\n",
        "print(f'500원짜리 동전:{a//500}개')\n",
        "b=a%500\n",
        "print(f'100원짜리 동전:{b//100}개')\n",
        "c=b%100\n",
        "print(f'50원짜리 동전:{c//50}개')\n",
        "d=c%50\n",
        "print(f'10원짜리 동전:{d//10}개')\n",
        "e=d%10\n",
        "print(f'잔돈{e}원')"
      ],
      "metadata": {
        "colab": {
          "base_uri": "https://localhost:8080/"
        },
        "id": "cMXXFYDIlVH2",
        "outputId": "dd3eb9aa-8f2e-4709-c70a-52cc5c16b4f5"
      },
      "execution_count": 168,
      "outputs": [
        {
          "output_type": "stream",
          "name": "stdout",
          "text": [
            "동전으로 교환할 금액을 입력하세요:4376\n",
            "500원짜리 동전:8개\n",
            "100원짜리 동전:3개\n",
            "50원짜리 동전:1개\n",
            "10원짜리 동전:2개\n",
            "잔돈6원\n"
          ]
        }
      ]
    },
    {
      "cell_type": "code",
      "source": [
        "a=int(input('동전으로 교환할 금액을 입력하세요:'))\n",
        "print(f'500원짜리 동전:{a//500}개')\n",
        "a%=500\n",
        "print(f'100원짜리 동전:{a//100}개')\n",
        "a%=100\n",
        "print(f'50원짜리 동전:{a//50}개')\n",
        "a%=50\n",
        "print(f'10원짜리 동전:{a//10}개')\n",
        "a%=10\n",
        "print(f'잔돈{e}원')"
      ],
      "metadata": {
        "colab": {
          "base_uri": "https://localhost:8080/"
        },
        "id": "2aHh-qm5mEm7",
        "outputId": "0343ea98-9418-4bb7-b6d7-77ecc3d04e9d"
      },
      "execution_count": 169,
      "outputs": [
        {
          "output_type": "stream",
          "name": "stdout",
          "text": [
            "동전으로 교환할 금액을 입력하세요:4376\n",
            "500원짜리 동전:8개\n",
            "100원짜리 동전:3개\n",
            "50원짜리 동전:1개\n",
            "10원짜리 동전:2개\n",
            "잔돈6원\n"
          ]
        }
      ]
    },
    {
      "cell_type": "code",
      "source": [
        "##지폐교환 프로그램\n",
        "\n",
        "a=int(input('교환할 금액을 입력하세요:'))\n",
        "\n",
        "print(f'50000원 :{a//50000}장')\n",
        "a%=50000\n",
        "print(f'10000원 :{a//10000}장')\n",
        "a%=10000\n",
        "print(f'5000원 :{a//5000}장')\n",
        "a%=5000\n",
        "print(f'1000원 :{a//1000}장')\n",
        "a%=1000\n",
        "\n",
        "print(f'500원 :{a//500}개')\n",
        "a%=500\n",
        "print(f'100원 :{a//100}개')\n",
        "a%=100\n",
        "print(f'50원 :{a//50}개')\n",
        "a%=50\n",
        "print(f'10원 :{a//10}개')\n",
        "a%=10\n",
        "\n",
        "print(f'잔돈{e}원')"
      ],
      "metadata": {
        "colab": {
          "base_uri": "https://localhost:8080/"
        },
        "id": "3LZx851To75L",
        "outputId": "29fd82e2-891c-4fba-b604-64b08ff096f1"
      },
      "execution_count": 172,
      "outputs": [
        {
          "output_type": "stream",
          "name": "stdout",
          "text": [
            "교환할 금액을 입력하세요:666666\n",
            "50000원 :13장\n",
            "10000원 :1장\n",
            "5000원 :1장\n",
            "1000원 :1장\n",
            "500원 :1개\n",
            "100원 :1개\n",
            "50원 :1개\n",
            "10원 :1개\n",
            "잔돈6원\n"
          ]
        }
      ]
    },
    {
      "cell_type": "code",
      "source": [
        "##if 조건문\n",
        "\n",
        "a=99\n",
        "if a < 100: print(\"100보다 작다.\")\n",
        "else: print(\"100보다 크거나 같다.\")"
      ],
      "metadata": {
        "colab": {
          "base_uri": "https://localhost:8080/"
        },
        "id": "F1kPI1eTq3oQ",
        "outputId": "5493cda9-ae27-4c4b-9b26-0eb571803969"
      },
      "execution_count": 174,
      "outputs": [
        {
          "output_type": "stream",
          "name": "stdout",
          "text": [
            "100보다 작다.\n"
          ]
        }
      ]
    },
    {
      "cell_type": "code",
      "source": [
        "##if 조건문\n",
        "\n",
        "a=500\n",
        "if a<1000:  print('1000보다 작다.')"
      ],
      "metadata": {
        "id": "aM-WpvVIr7Pk"
      },
      "execution_count": 175,
      "outputs": []
    },
    {
      "cell_type": "code",
      "source": [
        "##if~else 조건문\n",
        "\n",
        "a=1500\n",
        "if a<1000:  print('1000보다 작다.')\n",
        "else: print('1000보다 크거나 같다.')"
      ],
      "metadata": {
        "colab": {
          "base_uri": "https://localhost:8080/"
        },
        "id": "MMJhBjbwtoHH",
        "outputId": "360ae42b-d83a-40f9-ece5-75857bd11979"
      },
      "execution_count": 179,
      "outputs": [
        {
          "output_type": "stream",
          "name": "stdout",
          "text": [
            "1000보다 크거나 같다.\n"
          ]
        }
      ]
    },
    {
      "cell_type": "code",
      "source": [
        "##중첩 if~else 조건문\n",
        "\n",
        "온도=float(input('온도를 입력해주세요.'))\n",
        "if 온도>30:\n",
        "  if 온도>35:\n",
        "    print('매우 덥다.')\n",
        "  else:\n",
        "    print('덥다.')\n",
        "else:\n",
        "  if 10<온도<=30:\n",
        "    print('쾌적하다.')\n",
        "  else:\n",
        "    print('춥다.')"
      ],
      "metadata": {
        "colab": {
          "base_uri": "https://localhost:8080/"
        },
        "id": "XcmrqSPIt-XQ",
        "outputId": "0f8f09ff-430a-41c4-9c83-7ae118696b37"
      },
      "execution_count": 194,
      "outputs": [
        {
          "output_type": "stream",
          "name": "stdout",
          "text": [
            "온도를 입력해주세요.3\n",
            "춥다.\n"
          ]
        }
      ]
    },
    {
      "cell_type": "code",
      "source": [
        "##if ~elif ~else\n",
        "\n",
        "온도=float(input('온도를 입력해주세요.'))\n",
        "if 온도>35:\n",
        "  print('매우 덥다.')\n",
        "elif 온도>=30:\n",
        "  print('덥다.')\n",
        "elif 온도>10:\n",
        "  print('쾌적하다.')\n",
        "elif 온도>-10:\n",
        "  print('춥다.')\n",
        "else:\n",
        "  print('매우 춥다.')"
      ],
      "metadata": {
        "colab": {
          "base_uri": "https://localhost:8080/"
        },
        "id": "niMKITj0vpDN",
        "outputId": "0d519054-e830-424f-9677-0178d656f7d4"
      },
      "execution_count": 202,
      "outputs": [
        {
          "output_type": "stream",
          "name": "stdout",
          "text": [
            "온도를 입력해주세요.-15\n",
            "매우 춥다.\n"
          ]
        }
      ]
    },
    {
      "cell_type": "code",
      "source": [
        "##짝수/홀수 판별하는 코드\n",
        "x=int(input('숫자를 입력해주세요.'))\n",
        "if x%2==0:\n",
        "  print('짝수')\n",
        "else:\n",
        "  print('홀수')"
      ],
      "metadata": {
        "colab": {
          "base_uri": "https://localhost:8080/"
        },
        "id": "SaTVUBfYwb3M",
        "outputId": "e0f7350d-719f-4f58-a2f5-4ea7d8ebd9eb"
      },
      "execution_count": 210,
      "outputs": [
        {
          "output_type": "stream",
          "name": "stdout",
          "text": [
            "숫자를 입력해주세요.1\n",
            "홀수\n"
          ]
        }
      ]
    },
    {
      "cell_type": "code",
      "source": [
        "##성적 등급 판별 코드\n",
        "score=int(input('점수를 입력하세요:'))\n",
        "\n",
        "if score>=90:\n",
        "  grade='A'\n",
        "elif score>=80:\n",
        "  grade='B'\n",
        "elif score>=70:\n",
        "  grade='C'\n",
        "else:\n",
        "  grade='D'\n",
        "\n",
        "print('-'*30)\n",
        "print(f'성적:{score}점은 {grade}등급 입니다.')"
      ],
      "metadata": {
        "colab": {
          "base_uri": "https://localhost:8080/"
        },
        "id": "Pj6ALJsV2_mL",
        "outputId": "10f1a228-f017-4bcc-8433-961de2d4e896"
      },
      "execution_count": 220,
      "outputs": [
        {
          "output_type": "stream",
          "name": "stdout",
          "text": [
            "점수를 입력하세요:88\n",
            "------------------------------\n",
            "성적:88점은 B등급 입니다.\n"
          ]
        }
      ]
    },
    {
      "cell_type": "code",
      "source": [
        "##데이터타입 (튜플,리스트) 튜플은 데이터타입 변형이 안됨, 고정. 리스트는 변경 가능.\n",
        "\n",
        "grade1=('A','B')\n",
        "grade2=['A','B']\n",
        "print(type(grade1),type(grade2))"
      ],
      "metadata": {
        "colab": {
          "base_uri": "https://localhost:8080/"
        },
        "id": "zQgIBGOn5oZF",
        "outputId": "58067407-b3c2-4f97-dde8-1eeaae977289"
      },
      "execution_count": 219,
      "outputs": [
        {
          "output_type": "stream",
          "name": "stdout",
          "text": [
            "<class 'tuple'> <class 'list'>\n"
          ]
        }
      ]
    },
    {
      "cell_type": "code",
      "source": [
        "##온도 조건문\n",
        "\n",
        "temp=float(input('온도:'))\n",
        "\n",
        "if temp>=30:\n",
        "  print('에어컨을 켜라.')\n",
        "elif 15<temp:\n",
        "  print('쾌적한 온도다.')\n",
        "elif 10<=temp:\n",
        "  print('내복을 입어라.')\n",
        "else:\n",
        "  print('난방기를 켜라.')"
      ],
      "metadata": {
        "colab": {
          "base_uri": "https://localhost:8080/"
        },
        "id": "i9-HKLyO7BSE",
        "outputId": "724ae426-dde8-4fae-b8e9-bee83f64111a"
      },
      "execution_count": 229,
      "outputs": [
        {
          "output_type": "stream",
          "name": "stdout",
          "text": [
            "온도:10\n",
            "내복을 입어라.\n"
          ]
        }
      ]
    },
    {
      "cell_type": "code",
      "source": [
        "##주민등록번호에서 정보 추출하기\n",
        "\n",
        "uid=(input('주민등록번호:'))\n",
        "\n",
        "yy=uid[0:2] #년도\n",
        "mm=uid[2:4] #월\n",
        "dd=uid[4:6] #일\n",
        "#1줄로 줄이면 yy,mm,dd = uid[0:2],[uid2:4], [uid4:6]\n",
        "\n",
        "if uid[7] == '1':\n",
        "  g ='남성'\n",
        "yy=1900+int(yy)\n",
        "if uid[7] == '2':\n",
        "  g ='여성'\n",
        "yy=1900+int(yy)\n",
        "if uid[7] == '3':\n",
        "  g ='남성'\n",
        "yy=2000+int(yy)\n",
        "if uid[7] == '4':\n",
        "  g ='여성'\n",
        "yy=2000+int(yy)\n",
        "\n",
        "print(f'{yy}년 {mm}월 {dd}일',{g})"
      ],
      "metadata": {
        "colab": {
          "base_uri": "https://localhost:8080/"
        },
        "id": "rEmu3UEL8o27",
        "outputId": "3c2a5aa9-46d3-4d2f-ec2a-bddb64b30148"
      },
      "execution_count": 279,
      "outputs": [
        {
          "output_type": "stream",
          "name": "stdout",
          "text": [
            "주민등록번호:98091711111\n",
            "7898년 09월 17일 {'남성'}\n"
          ]
        }
      ]
    },
    {
      "cell_type": "code",
      "source": [
        "import datetime\n",
        "now = datetime.datetime.now()\n",
        "print(now.year, now.month, now.day)"
      ],
      "metadata": {
        "colab": {
          "base_uri": "https://localhost:8080/"
        },
        "id": "29akedfIDTW0",
        "outputId": "7b4ecb6f-03db-4a13-c096-6ef60a0ea515"
      },
      "execution_count": 248,
      "outputs": [
        {
          "output_type": "stream",
          "name": "stdout",
          "text": [
            "2023 8 8\n"
          ]
        }
      ]
    },
    {
      "cell_type": "code",
      "source": [
        "##커피 자동주문 머신 프로그램\n",
        "\n",
        "c1_price=2500\n",
        "c2_price=2500\n",
        "c3_price=3000\n",
        "\n",
        "menu=f'''[커피 자동주문 머신 메뉴]\n",
        "--------------------\n",
        "-아메리카노: {c1_price}원\n",
        "-카페라떼: {c2_price}원\n",
        "-카푸치노: {c3_price}원\n",
        "-------------------\n",
        "원하시는 커피종류의 잔수를 입력하세요.\n",
        "'''\n",
        "print(menu)\n",
        "\n",
        "c1=int(input('아메리카노 잔수:'))\n",
        "c2=int(input('카페라떼 잔수:'))\n",
        "c3=int(input('카푸치노 잔수:'))\n",
        "total=c1_price*c1+c2_price*c2+c3_price*c3\n",
        "\n",
        "print(f'주문하신 커피의 총액은 {total}원 입니다.')\n",
        "\n",
        "money=int(input('돈을 넣어주세요:'))\n",
        "\n",
        "if total>money:\n",
        "  print(f'{total-money}원이 부족합니다. 돈을 더 넣어주세요.')\n",
        "else:\n",
        "  print(f'거스름돈은 {abs(total-money)}원 입니다. 감사합니다.') #abs함수 = 절대값"
      ],
      "metadata": {
        "colab": {
          "base_uri": "https://localhost:8080/"
        },
        "id": "7SMip0M-EksX",
        "outputId": "f96cf256-bc57-4ff3-ba0d-ae3608b71728"
      },
      "execution_count": 278,
      "outputs": [
        {
          "output_type": "stream",
          "name": "stdout",
          "text": [
            "[커피 자동주문 머신 메뉴]\n",
            "--------------------\n",
            "-아메리카노: 2500원\n",
            "-카페라떼: 2500원\n",
            "-카푸치노: 3000원\n",
            "-------------------\n",
            "원하시는 커피종류의 잔수를 입력하세요.\n",
            "\n",
            "아메리카노 잔수:3\n",
            "카페라떼 잔수:4\n",
            "카푸치노 잔수:5\n",
            "주문하신 커피의 총액은 32500원 입니다.\n",
            "돈을 넣어주세요:40000\n",
            "거스름돈은 7500원 입니다. 감사합니다.\n"
          ]
        }
      ]
    }
  ]
}