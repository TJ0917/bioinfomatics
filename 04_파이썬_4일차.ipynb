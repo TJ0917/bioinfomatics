{
  "nbformat": 4,
  "nbformat_minor": 0,
  "metadata": {
    "colab": {
      "provenance": [],
      "authorship_tag": "ABX9TyO+QacFg4JnpuOxM70FgNNc",
      "include_colab_link": true
    },
    "kernelspec": {
      "name": "python3",
      "display_name": "Python 3"
    },
    "language_info": {
      "name": "python"
    }
  },
  "cells": [
    {
      "cell_type": "markdown",
      "metadata": {
        "id": "view-in-github",
        "colab_type": "text"
      },
      "source": [
        "<a href=\"https://colab.research.google.com/github/TJ0917/bioinfomatics/blob/main/04_%ED%8C%8C%EC%9D%B4%EC%8D%AC_4%EC%9D%BC%EC%B0%A8.ipynb\" target=\"_parent\"><img src=\"https://colab.research.google.com/assets/colab-badge.svg\" alt=\"Open In Colab\"/></a>"
      ]
    },
    {
      "cell_type": "code",
      "execution_count": 20,
      "metadata": {
        "colab": {
          "base_uri": "https://localhost:8080/"
        },
        "id": "51fMx0eI8iMS",
        "outputId": "fb40cf46-4f6d-4f08-cfb0-2d5d4462f513"
      },
      "outputs": [
        {
          "output_type": "stream",
          "name": "stdout",
          "text": [
            "* 비밀의 숫자가 지정되었습니다.\n",
            "**********\n",
            "숫자를 입력하세요:66\n",
            "----------\n",
            "비밀의 숫자가 더 작습니다. 다시 입력해주세요\n",
            "숫자를 입력하세요:33\n",
            "----------\n",
            "비밀의 숫자가 더 큽니다. 다시 입력해주세요.\n",
            "숫자를 입력하세요:55\n",
            "----------\n",
            "비밀의 숫자가 더 작습니다. 다시 입력해주세요\n",
            "숫자를 입력하세요:40\n",
            "----------\n",
            "비밀의 숫자가 더 큽니다. 다시 입력해주세요.\n",
            "숫자를 입력하세요:45\n",
            "----------\n",
            "비밀의 숫자가 더 큽니다. 다시 입력해주세요.\n",
            "숫자를 입력하세요:50\n",
            "----------\n",
            "비밀의 숫자가 더 큽니다. 다시 입력해주세요.\n",
            "숫자를 입력하세요:52\n",
            "----------\n",
            "비밀의 숫자가 더 큽니다. 다시 입력해주세요.\n",
            "숫자를 입력하세요:54\n",
            "----------\n",
            "비밀의 숫자가 더 작습니다. 다시 입력해주세요\n",
            "숫자를 입력하세요:53\n",
            "----------\n",
            "정답을 맞추셨습니다. 비밀의 숫자는 53입니다.\n",
            "비밀의 숫자: 53\n",
            "당신의 입력 횟수: 9\n"
          ]
        }
      ],
      "source": [
        "## (1~100)사이 랜덤 숫자 맞추는 업다운 게임 만들기\n",
        "\n",
        "import random\n",
        "\n",
        "rand=random.randint(1,100)\n",
        "\n",
        "print(f'* 비밀의 숫자가 지정되었습니다.')\n",
        "print('*'*10)\n",
        "t=0\n",
        "\n",
        "while True:\n",
        "  num=int(input(f'숫자를 입력하세요:'))\n",
        "  if rand>num:\n",
        "    print('-'*10)\n",
        "    print(f'비밀의 숫자가 더 큽니다. 다시 입력해주세요.')\n",
        "    t+=1\n",
        "  elif rand<num:\n",
        "    print('-'*10)\n",
        "    print(f'비밀의 숫자가 더 작습니다. 다시 입력해주세요')\n",
        "    t+=1\n",
        "  else:\n",
        "    print('-'*10)\n",
        "    print(f'정답을 맞추셨습니다. 비밀의 숫자는 {rand}입니다.')\n",
        "    t+=1\n",
        "    break\n",
        "\n",
        "print(f'비밀의 숫자: {rand}')\n",
        "print(f'당신의 입력 횟수: {t}')"
      ]
    },
    {
      "cell_type": "code",
      "source": [
        "print('\\u2605')"
      ],
      "metadata": {
        "colab": {
          "base_uri": "https://localhost:8080/"
        },
        "id": "vOJuy8ddGlTN",
        "outputId": "54ff8629-2cd4-4bf5-ec6e-a94b02998c50"
      },
      "execution_count": 21,
      "outputs": [
        {
          "output_type": "stream",
          "name": "stdout",
          "text": [
            "★\n"
          ]
        }
      ]
    },
    {
      "cell_type": "code",
      "source": [
        "## 공 튀어오르기 프로그램\n",
        "\n",
        "leng=int(input('공을 던질 높이를 입력하세요(m):'))\n",
        "t=0\n",
        "y=leng\n",
        "while True:\n",
        "  y>=0.00001\n",
        "  t+=1\n",
        "  y=y/2\n",
        "  if y<0.00001:\n",
        "    print(f'{leng}m 위치에서 던진 공은 {t}번 튕겼습니다.')\n",
        "    break"
      ],
      "metadata": {
        "colab": {
          "base_uri": "https://localhost:8080/"
        },
        "id": "AdvFuemEHAPr",
        "outputId": "fb6402c6-b6f0-4b08-adf9-c266beae905d"
      },
      "execution_count": 31,
      "outputs": [
        {
          "output_type": "stream",
          "name": "stdout",
          "text": [
            "공을 던질 높이를 입력하세요(m):30\n",
            "30m 위치에서 던진 공은 22번 튕겼습니다.\n"
          ]
        }
      ]
    },
    {
      "cell_type": "code",
      "source": [
        "##enumerate 함수, 인덱스와 값 함께 사용 가능\n",
        "\n",
        "a_list = [3,4,6,8,9]\n",
        "six_index=a_list.index(6)\n",
        "print(f'6의 인덱스: {six_index}')\n",
        "\n",
        "for idx,v in enumerate(a_list):\n",
        "  print(f'인덱스:{idx} 값:{v}')"
      ],
      "metadata": {
        "colab": {
          "base_uri": "https://localhost:8080/"
        },
        "id": "UaxLcMb0LTuU",
        "outputId": "06db93e1-50ee-47bb-e19a-1f354edcee14"
      },
      "execution_count": 37,
      "outputs": [
        {
          "output_type": "stream",
          "name": "stdout",
          "text": [
            "6의 인덱스: 2\n",
            "인덱스:0 값:3\n",
            "인덱스:1 값:4\n",
            "인덱스:2 값:6\n",
            "인덱스:3 값:8\n",
            "인덱스:4 값:9\n"
          ]
        }
      ]
    },
    {
      "cell_type": "code",
      "source": [
        "#파이썬 자료형 확인하기\n",
        "\n",
        "print(type([1,2,3,4]))\n",
        "#help(list) 활용\n",
        "\n",
        "mylist = list() #빈 리스트 생성\n",
        "mylist = [] #빈 리스트 생성\n",
        "\n",
        "mylist = list(range(1,11)) #[1,2,3,4,5,6,7,8,9,10]\n",
        "\n",
        "##리스트 요소(element)에 접근하기\n",
        "#인덱스로 요소에 접근한다.\n",
        "\n",
        "colors = ['red','green','blue','orange','purple']\n",
        "print(f'인덱스 2번의 요소는: {colors[2]}')\n",
        "print(colors[2:])\n",
        "\n",
        "for idx, color in enumerate(colors):\n",
        "  print(f'내가 좋아하는 색깔은 {idx}:{color}.')"
      ],
      "metadata": {
        "colab": {
          "base_uri": "https://localhost:8080/"
        },
        "id": "ibWyrMHLMoEi",
        "outputId": "b0d2fc64-4201-4113-b071-bc5f561dbf36"
      },
      "execution_count": 60,
      "outputs": [
        {
          "output_type": "stream",
          "name": "stdout",
          "text": [
            "<class 'list'>\n",
            "인덱스 2번의 요소는: blue\n",
            "['blue', 'orange', 'purple']\n",
            "내가 좋아하는 색깔은 0:red.\n",
            "내가 좋아하는 색깔은 1:green.\n",
            "내가 좋아하는 색깔은 2:blue.\n",
            "내가 좋아하는 색깔은 3:orange.\n",
            "내가 좋아하는 색깔은 4:purple.\n"
          ]
        }
      ]
    },
    {
      "cell_type": "code",
      "source": [
        "#리스트 길이 확인하기.\n",
        "\n",
        "a=[1,2,3]\n",
        "b=[4,5,6,7]\n",
        "print(len(a+b))"
      ],
      "metadata": {
        "colab": {
          "base_uri": "https://localhost:8080/"
        },
        "id": "61Q-PyUFV8p2",
        "outputId": "110295ed-e298-4f4c-95a3-3ea99d2f6d07"
      },
      "execution_count": 59,
      "outputs": [
        {
          "output_type": "stream",
          "name": "stdout",
          "text": [
            "7\n"
          ]
        }
      ]
    },
    {
      "cell_type": "code",
      "source": [
        "#맨 뒤에 요소 추가하기: append(값)\n",
        "colors = ['red','green','blue','orange','purple']\n",
        "colors.append('pink')\n",
        "print(colors)\n",
        "\n",
        "#특정 위치에 추가하기: insert(위치,값)\n",
        "colors.insert(2,'white')\n",
        "print(colors)\n",
        "\n",
        "#특정 요소 삭제하기: remove(값). *단, 지정한 값이 여러 개면 첫 번째 값만 지움.\n",
        "colors.remove('orange')\n",
        "print(colors)\n",
        "\n",
        "#맨 뒤 요소 삭제하기: pop()\n",
        "colors.pop()\n",
        "print(colors)\n"
      ],
      "metadata": {
        "colab": {
          "base_uri": "https://localhost:8080/"
        },
        "id": "5woOQWCiWLl3",
        "outputId": "8c0036fb-ac91-4e59-b6bd-4ef8cd0d7494"
      },
      "execution_count": 66,
      "outputs": [
        {
          "output_type": "stream",
          "name": "stdout",
          "text": [
            "['red', 'green', 'blue', 'orange', 'purple', 'pink']\n",
            "['red', 'green', 'white', 'blue', 'orange', 'purple', 'pink']\n",
            "['red', 'green', 'white', 'blue', 'purple', 'pink']\n",
            "['red', 'green', 'white', 'blue', 'purple']\n"
          ]
        }
      ]
    },
    {
      "cell_type": "code",
      "source": [
        "##리스트 요소 값 대체하기\n",
        "colors = ['red','green','blue','orange','purple']\n",
        "print(colors)\n",
        "\n",
        "#인덱스 위치에 해당하는 값을 대체하기(변경)\n",
        "colors[2]='deepblue'\n",
        "print(colors)\n",
        "\n",
        "colors[2:]='deepblue'\n",
        "print(colors)\n",
        "\n",
        "#값 하나씩 다 다 바꾸려면 위에다가 for반복문 활용"
      ],
      "metadata": {
        "colab": {
          "base_uri": "https://localhost:8080/"
        },
        "id": "foyi_MJXYK3z",
        "outputId": "4a8f3b8a-ae15-4f4a-dd97-7886e60fc778"
      },
      "execution_count": 68,
      "outputs": [
        {
          "output_type": "stream",
          "name": "stdout",
          "text": [
            "['red', 'green', 'blue', 'orange', 'purple']\n",
            "['red', 'green', 'deepblue', 'orange', 'purple']\n",
            "['red', 'green', 'd', 'e', 'e', 'p', 'b', 'l', 'u', 'e']\n"
          ]
        }
      ]
    },
    {
      "cell_type": "code",
      "source": [
        "#리스트 정렬하기\n",
        "colors = ['red','green','blue','orange','purple']\n",
        "print(colors)\n",
        "\n",
        "colors.sort()\n",
        "print(colors)\n"
      ],
      "metadata": {
        "colab": {
          "base_uri": "https://localhost:8080/",
          "height": 273
        },
        "id": "YqcEFkJZY62H",
        "outputId": "b5ef35e6-f631-4231-ceac-05746ff637db"
      },
      "execution_count": 77,
      "outputs": [
        {
          "output_type": "stream",
          "name": "stdout",
          "text": [
            "['red', 'green', 'blue', 'orange', 'purple']\n",
            "['blue', 'green', 'orange', 'purple', 'red']\n"
          ]
        },
        {
          "output_type": "error",
          "ename": "AttributeError",
          "evalue": "ignored",
          "traceback": [
            "\u001b[0;31m---------------------------------------------------------------------------\u001b[0m",
            "\u001b[0;31mAttributeError\u001b[0m                            Traceback (most recent call last)",
            "\u001b[0;32m<ipython-input-77-41ce5964cb30>\u001b[0m in \u001b[0;36m<cell line: 8>\u001b[0;34m()\u001b[0m\n\u001b[1;32m      6\u001b[0m \u001b[0mprint\u001b[0m\u001b[0;34m(\u001b[0m\u001b[0mcolors\u001b[0m\u001b[0;34m)\u001b[0m\u001b[0;34m\u001b[0m\u001b[0;34m\u001b[0m\u001b[0m\n\u001b[1;32m      7\u001b[0m \u001b[0;34m\u001b[0m\u001b[0m\n\u001b[0;32m----> 8\u001b[0;31m \u001b[0mcolors\u001b[0m\u001b[0;34m.\u001b[0m\u001b[0msorted\u001b[0m\u001b[0;34m(\u001b[0m\u001b[0mreverse\u001b[0m\u001b[0;34m,\u001b[0m\u001b[0;32mTrue\u001b[0m\u001b[0;34m)\u001b[0m\u001b[0;34m\u001b[0m\u001b[0;34m\u001b[0m\u001b[0m\n\u001b[0m\u001b[1;32m      9\u001b[0m \u001b[0mprint\u001b[0m\u001b[0;34m(\u001b[0m\u001b[0mcolors\u001b[0m\u001b[0;34m)\u001b[0m\u001b[0;34m\u001b[0m\u001b[0;34m\u001b[0m\u001b[0m\n",
            "\u001b[0;31mAttributeError\u001b[0m: 'list' object has no attribute 'sorted'"
          ]
        }
      ]
    },
    {
      "cell_type": "code",
      "source": [
        "#다차원 리스트 요소 접근\n",
        "\n",
        "numbers=[[1,2,3],[4,5,[6,7,8]],9,10]\n",
        "print(len(numbers))\n",
        "print((numbers[0])) #=[1,2,3]\n",
        "print(len(numbers[1])) #=[4,5,[6,7,8]]\n",
        "\n",
        "print(numbers[0][1])  #1차원안에 있는 요소 2번을 접근하기 위해 (0번 인덱스 리스트의 1번 인덱스 요소)\n",
        "\n",
        "#요소'7'에 접근하려면?\n",
        "print(numbers[1][2][1])\n",
        "\n",
        "#요소'7~8'에 접근하려면?\n",
        "print(numbers[1][2][1:3])"
      ],
      "metadata": {
        "colab": {
          "base_uri": "https://localhost:8080/"
        },
        "id": "-YXiXCtabWia",
        "outputId": "c259dbec-c399-4410-d4af-a16a9baf81d2"
      },
      "execution_count": 92,
      "outputs": [
        {
          "output_type": "stream",
          "name": "stdout",
          "text": [
            "4\n",
            "[1, 2, 3]\n",
            "3\n",
            "2\n",
            "7\n",
            "[7, 8]\n"
          ]
        }
      ]
    },
    {
      "cell_type": "code",
      "source": [
        "#3행 4열 리스트 생성 후 출력하기: 중첩 for(for+for문)\n",
        "\n",
        "#mylist=[i for i in range(3)] #=list(range(3)) =[0,1,2]\n",
        "#리스트 컴프리헨션 (수학에서 집합으로 따지면 조건제시법과 유사)\n",
        "\n",
        "mylist=[[] for i in range(3)] #=[[], [], []] 처럼 빈방(2차원 리스트)을 마련하는 과정\n",
        "\n",
        "value=1\n",
        "for i in range(3):\n",
        "  for k in range(4):\n",
        "    mylist[i].append(str(value)) #두자리로 맞추려면 mylist[i].append(f'{value:>2}')\n",
        "    value=value+1\n",
        "print(mylist)\n",
        "\n",
        "for i in range(3):\n",
        "  print('-'.join(mylist[i])) #join함수에는 문자열string만 사용 가능"
      ],
      "metadata": {
        "colab": {
          "base_uri": "https://localhost:8080/"
        },
        "id": "0LsLc466dYfF",
        "outputId": "f6c9d639-4283-4d6e-fd42-7ca2f1d3854d"
      },
      "execution_count": 112,
      "outputs": [
        {
          "output_type": "stream",
          "name": "stdout",
          "text": [
            "[['1', '2', '3', '4'], ['5', '6', '7', '8'], ['9', '10', '11', '12']]\n",
            "1-2-3-4\n",
            "5-6-7-8\n",
            "9-10-11-12\n"
          ]
        }
      ]
    },
    {
      "cell_type": "code",
      "source": [
        "mylist = [[] for i in range(3)]\n",
        "\n",
        "value = 1\n",
        "for i in range(3):\n",
        "    for k in range(4):\n",
        "        mylist[i].append(f'{value:>2}')\n",
        "        value = value + 1\n",
        "\n",
        "for i in range(3):\n",
        "    print(' '.join(mylist[i]))"
      ],
      "metadata": {
        "colab": {
          "base_uri": "https://localhost:8080/"
        },
        "id": "dmHyfUPxkmBP",
        "outputId": "2846971c-8ead-4d26-a3da-5f08d566cfb2"
      },
      "execution_count": 117,
      "outputs": [
        {
          "output_type": "stream",
          "name": "stdout",
          "text": [
            " 1  2  3  4\n",
            " 5  6  7  8\n",
            " 9 10 11 12\n"
          ]
        }
      ]
    }
  ]
}