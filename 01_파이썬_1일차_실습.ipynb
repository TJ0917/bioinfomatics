{
  "nbformat": 4,
  "nbformat_minor": 0,
  "metadata": {
    "colab": {
      "provenance": [],
      "authorship_tag": "ABX9TyN58cDyCAViTg8gz8H2jVFN",
      "include_colab_link": true
    },
    "kernelspec": {
      "name": "python3",
      "display_name": "Python 3"
    },
    "language_info": {
      "name": "python"
    }
  },
  "cells": [
    {
      "cell_type": "markdown",
      "metadata": {
        "id": "view-in-github",
        "colab_type": "text"
      },
      "source": [
        "<a href=\"https://colab.research.google.com/github/TJ0917/bioinfomatics/blob/main/01_%ED%8C%8C%EC%9D%B4%EC%8D%AC_1%EC%9D%BC%EC%B0%A8_%EC%8B%A4%EC%8A%B5.ipynb\" target=\"_parent\"><img src=\"https://colab.research.google.com/assets/colab-badge.svg\" alt=\"Open In Colab\"/></a>"
      ]
    },
    {
      "cell_type": "markdown",
      "source": [
        "## 파이썬 자료형"
      ],
      "metadata": {
        "id": "jTOGSWtAey4o"
      }
    },
    {
      "cell_type": "code",
      "source": [
        "# 데이터 형태를 확인해주는 함수: type()\n",
        "# 화면에 출력해주는 함수: print()\n",
        "print(type(100))\n",
        "print(type(100.0))\n",
        "print(type('파이썬'))"
      ],
      "metadata": {
        "colab": {
          "base_uri": "https://localhost:8080/"
        },
        "id": "rE3Xta9mexVP",
        "outputId": "5db85fbe-5421-46cc-ad0a-70eb76be46b5"
      },
      "execution_count": null,
      "outputs": [
        {
          "output_type": "stream",
          "name": "stdout",
          "text": [
            "<class 'int'>\n",
            "<class 'float'>\n",
            "<class 'str'>\n"
          ]
        }
      ]
    },
    {
      "cell_type": "code",
      "source": [
        "# 변수에 값을 지정해서 사용한다\n",
        "a = 100\n",
        "b = 50\n",
        "c = '파이썬'\n",
        "print(a+b)\n",
        "print(c)"
      ],
      "metadata": {
        "colab": {
          "base_uri": "https://localhost:8080/"
        },
        "id": "FbRKn_kUgAIT",
        "outputId": "cb123b27-6781-4b93-8fb3-b23d6181b712"
      },
      "execution_count": null,
      "outputs": [
        {
          "output_type": "stream",
          "name": "stdout",
          "text": [
            "150\n",
            "파이썬\n"
          ]
        }
      ]
    },
    {
      "cell_type": "code",
      "source": [
        "사과 = '수박'\n",
        "print(사과)"
      ],
      "metadata": {
        "colab": {
          "base_uri": "https://localhost:8080/"
        },
        "id": "i1w5HYu6g8xS",
        "outputId": "f7853952-3095-4808-d7f8-77f0495b9b25"
      },
      "execution_count": null,
      "outputs": [
        {
          "output_type": "stream",
          "name": "stdout",
          "text": [
            "수박\n"
          ]
        }
      ]
    },
    {
      "cell_type": "code",
      "source": [
        "a = 3.14\n",
        "b = 314\n",
        "print(int(a))\n",
        "print(float(b))"
      ],
      "metadata": {
        "colab": {
          "base_uri": "https://localhost:8080/"
        },
        "id": "AR3bVNuohqIc",
        "outputId": "cb37e34d-495a-4b33-c301-644ee9192467"
      },
      "execution_count": null,
      "outputs": [
        {
          "output_type": "stream",
          "name": "stdout",
          "text": [
            "3\n",
            "314.0\n"
          ]
        }
      ]
    },
    {
      "cell_type": "code",
      "source": [
        "print(7%10)\n",
        "\n",
        "a=3\n",
        "b=20\n",
        "c=b//a\n",
        "print(c)"
      ],
      "metadata": {
        "colab": {
          "base_uri": "https://localhost:8080/"
        },
        "id": "Keb2PvmEjPHY",
        "outputId": "f06b0060-2c76-4ad4-d168-94cbfacc62d1"
      },
      "execution_count": null,
      "outputs": [
        {
          "output_type": "stream",
          "name": "stdout",
          "text": [
            "7\n",
            "6\n"
          ]
        }
      ]
    },
    {
      "cell_type": "code",
      "source": [
        "# 문자열형, 따옴표로 감싸면 문자열형 (' '), (\" \")\n",
        "\n",
        "a = \"I love python\"\n",
        "print(a)\n",
        "\n",
        "a = '''파이썬은 텍스트 언어이다'''\n",
        "print(a)\n",
        "\n",
        "say = \"Yes, I'can!\"\n",
        "print(say)\n",
        "say = 'Yes, I\\'can!'\n",
        "print(say)\n",
        "\n",
        "lines = \"\"\"사과좋아\n",
        "딸기좋아\"\"\"\n",
        "print(lines)\n",
        "lines = \"\"\"사과좋아 딸기좋아\"\"\"\n",
        "print(lines)\n"
      ],
      "metadata": {
        "colab": {
          "base_uri": "https://localhost:8080/"
        },
        "id": "e9XsXWJFn9N7",
        "outputId": "5adc9636-5e9c-4f69-932d-a3e9858a6210"
      },
      "execution_count": null,
      "outputs": [
        {
          "output_type": "stream",
          "name": "stdout",
          "text": [
            "I love python\n",
            "파이썬은 텍스트 언어이다\n",
            "Yes, I'can!\n",
            "Yes, I'can!\n",
            "사과좋아\n",
            "딸기좋아\n",
            "사과좋아 딸기좋아\n"
          ]
        }
      ]
    },
    {
      "cell_type": "code",
      "source": [
        "# + : 문자열을 붙여서 표현한다.\n",
        "# , : 문자열 사이에 공백문자 (띄어쓰기 들어감)\n",
        "\n",
        "print('오늘은' + '파이썬 첫째 날!')\n",
        "print('오늘은', '파이썬 첫째 날!')"
      ],
      "metadata": {
        "colab": {
          "base_uri": "https://localhost:8080/"
        },
        "id": "QRAEe_Fmpdgg",
        "outputId": "2a3b4dba-e1b1-4426-8ca5-2c9bee173572"
      },
      "execution_count": null,
      "outputs": [
        {
          "output_type": "stream",
          "name": "stdout",
          "text": [
            "오늘은파이썬 첫째 날!\n",
            "오늘은 파이썬 첫째 날!\n"
          ]
        }
      ]
    },
    {
      "cell_type": "code",
      "source": [
        "# * : 문자열을 반복한다.\n",
        "print('반짝'*5)\n",
        "print('-'*30)\n"
      ],
      "metadata": {
        "colab": {
          "base_uri": "https://localhost:8080/"
        },
        "id": "hpJJwOhqp0nR",
        "outputId": "10c4b326-84ef-4dd3-ed68-12fe438af131"
      },
      "execution_count": null,
      "outputs": [
        {
          "output_type": "stream",
          "name": "stdout",
          "text": [
            "반짝반짝반짝반짝반짝\n",
            "------------------------------\n"
          ]
        }
      ]
    },
    {
      "cell_type": "code",
      "source": [
        "### Bool타입 '참'과 '거짓'을 의미하는 True,False의 값을 갖는 데이터. (대소문자 구분)\n",
        "# Ctrl + / = 주석\n",
        "\n",
        "# a = True\n",
        "# b = False\n",
        "# print(a,b)\n",
        "\n",
        "a = 100\n",
        "b = 200\n",
        "print(a<b)\n",
        "print(type(a<b))"
      ],
      "metadata": {
        "colab": {
          "base_uri": "https://localhost:8080/"
        },
        "id": "7Fy_IBGaqVP7",
        "outputId": "646f3e6f-a6a4-4b31-d222-9c867b8a8595"
      },
      "execution_count": null,
      "outputs": [
        {
          "output_type": "stream",
          "name": "stdout",
          "text": [
            "True\n",
            "<class 'bool'>\n"
          ]
        }
      ]
    },
    {
      "cell_type": "code",
      "source": [
        "### 입력 함수\n",
        "\n",
        "##input()\n",
        "\n",
        "# 키보드로 입력 받으면 무조건 문자열형 데이터이다.\n",
        "# 따라서 숫자형태로 계산을 해주기 위해서는 숫자형태로 변경해주어야한다.\n",
        "\n",
        "##print()\n",
        "\n",
        "# 화면에 출력하고 싶은 내용을 print() 괄호 안에 넣는다.\n",
        "# 자동 줄바꿈 기능 있음.\n"
      ],
      "metadata": {
        "id": "C4tDaEHUrvHn"
      },
      "execution_count": null,
      "outputs": []
    },
    {
      "cell_type": "code",
      "source": [
        "## 파이썬 기본 입출력\n",
        "# 파이썬으로 사칙연산 하기 프로그램\n",
        "\n",
        "a=input('키보드로 입력하세요:')\n",
        "a=int(a)          # 정수로 만들기\n",
        "a=float(a)          # 실수로 만들기\n",
        "print('a의 값은:',a, type(a))\n"
      ],
      "metadata": {
        "colab": {
          "base_uri": "https://localhost:8080/"
        },
        "id": "Lvlimen7srkY",
        "outputId": "2e355da2-b2be-47f8-f371-547674ebf1c6"
      },
      "execution_count": null,
      "outputs": [
        {
          "output_type": "stream",
          "name": "stdout",
          "text": [
            "키보드로 입력하세요:100\n",
            "a의 값은: 100.0 <class 'float'>\n"
          ]
        }
      ]
    },
    {
      "cell_type": "code",
      "source": [
        "a=int(input('키보드로 입력하세요:'))\n",
        "print('a의 값은:',a, type(a))"
      ],
      "metadata": {
        "colab": {
          "base_uri": "https://localhost:8080/"
        },
        "id": "nDMqegPCt9eA",
        "outputId": "c3534752-69c8-481b-daf3-030c3188482e"
      },
      "execution_count": null,
      "outputs": [
        {
          "output_type": "stream",
          "name": "stdout",
          "text": [
            "키보드로 입력하세요:100\n",
            "a의 값은: 100 <class 'int'>\n"
          ]
        }
      ]
    },
    {
      "cell_type": "code",
      "source": [
        "num1 = int(input('첫 번째 숫자'))\n",
        "num2 = int(input('두 번째 숫자'))\n",
        "print('-'*30)\n",
        "print('덧셈:%d + %d = %d'%(num1,num2,num1+num2)) # %d=정수가 들어갈 자리, %는 규칙을 의미함\n",
        "print('뺄셈:%d - %d = %d'%(num1,num2,num1-num2)) #앞에 '' 안에는 나오는 문자열, 뒤에 ()안에가 계산방법\n",
        "print('곱셈:%d * %d = %d'%(num1,num2,num1*num2))\n",
        "print('나눗셈:%f/ %f = %f'%(num1,num2,num1/num2)) #d가 정수(decimal) f가 실수(float)\n"
      ],
      "metadata": {
        "colab": {
          "base_uri": "https://localhost:8080/"
        },
        "id": "nJgn2rHbuYtS",
        "outputId": "6f430dc5-96da-4f38-9d8e-ff0e7afc4a9e"
      },
      "execution_count": null,
      "outputs": [
        {
          "output_type": "stream",
          "name": "stdout",
          "text": [
            "첫 번째 숫자200\n",
            "두 번째 숫자30\n",
            "------------------------------\n",
            "덧셈:200 + 30 = 230\n",
            "뺄셈:200 - 30 = 170\n",
            "곱셈:200 * 30 = 6000\n",
            "나눗셈:200.000000/ 30.000000 = 6.666667\n"
          ]
        }
      ]
    },
    {
      "cell_type": "code",
      "source": [
        "num1 = int(input('첫 번째 숫자'))\n",
        "num2 = int(input('두 번째 숫자'))\n",
        "print('-'*30)\n",
        "print(f'덧셈:{num1} + {num2} = {num1+num2}')\n",
        "print(f'뺄셈:{num1} - {num2} = {num1-num2}')\n",
        "print(f'곱셈:{num1} * {num2} = {num1*num2}')\n",
        "print(f'나눗셈:{num1} / {num2} = {num1/num2}')"
      ],
      "metadata": {
        "colab": {
          "base_uri": "https://localhost:8080/"
        },
        "id": "BVnMo5smwVHh",
        "outputId": "b9180c5d-57ee-4934-fa4c-4bee99a0ace0"
      },
      "execution_count": null,
      "outputs": [
        {
          "output_type": "stream",
          "name": "stdout",
          "text": [
            "첫 번째 숫자200\n",
            "두 번째 숫자30\n",
            "------------------------------\n",
            "덧셈:200 + 30 = 230\n",
            "뺄셈:200 - 30 = 170\n",
            "곱셈:200 * 30 = 6000\n",
            "나눗셈:200 / 30 = 6.666666666666667\n"
          ]
        }
      ]
    },
    {
      "cell_type": "code",
      "source": [
        "###시간(Time)=거리(DIstance)/속도(Velocity)   #변수는 중괄호로\n",
        "\n",
        "num1 = int(input('속도를 입력해 주세요:'))\n",
        "num2 = int(input('거리를 입력해 주세요:'))\n",
        "print(f'속도 : {num1}')\n",
        "print(f'거리 : {num2}')\n",
        "print(f'시간 : {num2} / {num1} = {num2/num1}')"
      ],
      "metadata": {
        "colab": {
          "base_uri": "https://localhost:8080/",
          "height": 292
        },
        "id": "HuV53uHXyj9K",
        "outputId": "56f95d16-436e-4f43-d38f-123cd8129366"
      },
      "execution_count": 124,
      "outputs": [
        {
          "name": "stdout",
          "output_type": "stream",
          "text": [
            "속도를 입력해 주세요:200\n",
            "거리를 입력해 주세요:50\n"
          ]
        },
        {
          "output_type": "error",
          "ename": "TypeError",
          "evalue": "ignored",
          "traceback": [
            "\u001b[0;31m---------------------------------------------------------------------------\u001b[0m",
            "\u001b[0;31mTypeError\u001b[0m                                 Traceback (most recent call last)",
            "\u001b[0;32m<ipython-input-124-138b5007b171>\u001b[0m in \u001b[0;36m<cell line: 5>\u001b[0;34m()\u001b[0m\n\u001b[1;32m      3\u001b[0m \u001b[0mnum1\u001b[0m \u001b[0;34m=\u001b[0m \u001b[0mint\u001b[0m\u001b[0;34m(\u001b[0m\u001b[0minput\u001b[0m\u001b[0;34m(\u001b[0m\u001b[0;34m'속도를 입력해 주세요:'\u001b[0m\u001b[0;34m)\u001b[0m\u001b[0;34m)\u001b[0m\u001b[0;34m\u001b[0m\u001b[0;34m\u001b[0m\u001b[0m\n\u001b[1;32m      4\u001b[0m \u001b[0mnum2\u001b[0m \u001b[0;34m=\u001b[0m \u001b[0mint\u001b[0m\u001b[0;34m(\u001b[0m\u001b[0minput\u001b[0m\u001b[0;34m(\u001b[0m\u001b[0;34m'거리를 입력해 주세요:'\u001b[0m\u001b[0;34m)\u001b[0m\u001b[0;34m)\u001b[0m\u001b[0;34m\u001b[0m\u001b[0;34m\u001b[0m\u001b[0m\n\u001b[0;32m----> 5\u001b[0;31m \u001b[0mprint\u001b[0m\u001b[0;34m(\u001b[0m\u001b[0;34mf'속도 : {num1}'\u001b[0m\u001b[0;34m)\u001b[0m\u001b[0;34m\u001b[0m\u001b[0;34m\u001b[0m\u001b[0m\n\u001b[0m\u001b[1;32m      6\u001b[0m \u001b[0mprint\u001b[0m\u001b[0;34m(\u001b[0m\u001b[0;34mf'거리 : {num2}'\u001b[0m\u001b[0;34m)\u001b[0m\u001b[0;34m\u001b[0m\u001b[0;34m\u001b[0m\u001b[0m\n\u001b[1;32m      7\u001b[0m \u001b[0mprint\u001b[0m\u001b[0;34m(\u001b[0m\u001b[0;34mf'시간 : {num2} / {num1} = {num2/num1}'\u001b[0m\u001b[0;34m)\u001b[0m\u001b[0;34m\u001b[0m\u001b[0;34m\u001b[0m\u001b[0m\n",
            "\u001b[0;31mTypeError\u001b[0m: 'str' object is not callable"
          ]
        }
      ]
    },
    {
      "cell_type": "code",
      "source": [
        "print('%d/%d=%d'%(100,200,0.5))\n",
        "##수정\n",
        "print('%d/%d=%5.1f'%(100,200,0.5))  ##5.1f= 5자리로 표현, 소수점은 1자리까지 라는 뜻"
      ],
      "metadata": {
        "colab": {
          "base_uri": "https://localhost:8080/",
          "height": 219
        },
        "id": "bCZ4nY6a2HpN",
        "outputId": "01b992b2-d5bf-4c69-ad0f-90bd6922baf4"
      },
      "execution_count": null,
      "outputs": [
        {
          "output_type": "error",
          "ename": "TypeError",
          "evalue": "ignored",
          "traceback": [
            "\u001b[0;31m---------------------------------------------------------------------------\u001b[0m",
            "\u001b[0;31mTypeError\u001b[0m                                 Traceback (most recent call last)",
            "\u001b[0;32m<ipython-input-103-952991e1c1c3>\u001b[0m in \u001b[0;36m<cell line: 3>\u001b[0;34m()\u001b[0m\n\u001b[1;32m      1\u001b[0m \u001b[0;31m###print('%d/%d=%d'%(100,200,0.5))\u001b[0m\u001b[0;34m\u001b[0m\u001b[0;34m\u001b[0m\u001b[0m\n\u001b[1;32m      2\u001b[0m \u001b[0;31m##수정\u001b[0m\u001b[0;34m\u001b[0m\u001b[0;34m\u001b[0m\u001b[0m\n\u001b[0;32m----> 3\u001b[0;31m \u001b[0mprint\u001b[0m\u001b[0;34m(\u001b[0m\u001b[0;34m'%d/%d=%5.1f'\u001b[0m\u001b[0;34m%\u001b[0m\u001b[0;34m(\u001b[0m\u001b[0;36m100\u001b[0m\u001b[0;34m,\u001b[0m\u001b[0;36m200\u001b[0m\u001b[0;34m,\u001b[0m\u001b[0;36m0.5\u001b[0m\u001b[0;34m)\u001b[0m\u001b[0;34m)\u001b[0m  \u001b[0;31m##5.1f= 5자리로 표현, 소수점은 1자리까지 라는 뜻\u001b[0m\u001b[0;34m\u001b[0m\u001b[0;34m\u001b[0m\u001b[0m\n\u001b[0m",
            "\u001b[0;31mTypeError\u001b[0m: 'str' object is not callable"
          ]
        }
      ]
    },
    {
      "cell_type": "code",
      "source": [
        "a = int(input('정수를 입력하세요:'))\n",
        "num1 = a\n",
        "print(f'{a}+{a*11}+{a*111}={a+a*11+a*111}')"
      ],
      "metadata": {
        "colab": {
          "base_uri": "https://localhost:8080/",
          "height": 237
        },
        "id": "dzZADw_c5y5z",
        "outputId": "c92d0fd5-97c6-4b88-d036-f6756b6b8862"
      },
      "execution_count": null,
      "outputs": [
        {
          "name": "stdout",
          "output_type": "stream",
          "text": [
            "정수를 입력하세요:7\n"
          ]
        },
        {
          "output_type": "error",
          "ename": "TypeError",
          "evalue": "ignored",
          "traceback": [
            "\u001b[0;31m---------------------------------------------------------------------------\u001b[0m",
            "\u001b[0;31mTypeError\u001b[0m                                 Traceback (most recent call last)",
            "\u001b[0;32m<ipython-input-121-63462c66dffe>\u001b[0m in \u001b[0;36m<cell line: 3>\u001b[0;34m()\u001b[0m\n\u001b[1;32m      1\u001b[0m \u001b[0ma\u001b[0m \u001b[0;34m=\u001b[0m \u001b[0mint\u001b[0m\u001b[0;34m(\u001b[0m\u001b[0minput\u001b[0m\u001b[0;34m(\u001b[0m\u001b[0;34m'정수를 입력하세요:'\u001b[0m\u001b[0;34m)\u001b[0m\u001b[0;34m)\u001b[0m\u001b[0;34m\u001b[0m\u001b[0;34m\u001b[0m\u001b[0m\n\u001b[1;32m      2\u001b[0m \u001b[0mnum1\u001b[0m \u001b[0;34m=\u001b[0m \u001b[0ma\u001b[0m\u001b[0;34m\u001b[0m\u001b[0;34m\u001b[0m\u001b[0m\n\u001b[0;32m----> 3\u001b[0;31m \u001b[0mprint\u001b[0m\u001b[0;34m(\u001b[0m\u001b[0;34mf'{a}+{a*11}+{a*111}={a+a*11+a*111}'\u001b[0m\u001b[0;34m)\u001b[0m\u001b[0;34m\u001b[0m\u001b[0;34m\u001b[0m\u001b[0m\n\u001b[0m",
            "\u001b[0;31mTypeError\u001b[0m: 'str' object is not callable"
          ]
        }
      ]
    },
    {
      "cell_type": "code",
      "source": [
        "\n"
      ],
      "metadata": {
        "id": "9MwWCKvm1m92"
      },
      "execution_count": null,
      "outputs": []
    }
  ]
}