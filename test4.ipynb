{
  "nbformat": 4,
  "nbformat_minor": 0,
  "metadata": {
    "colab": {
      "provenance": [],
      "authorship_tag": "ABX9TyNezT9qRNNB98Q/1gzdV9eH",
      "include_colab_link": true
    },
    "kernelspec": {
      "name": "python3",
      "display_name": "Python 3"
    },
    "language_info": {
      "name": "python"
    }
  },
  "cells": [
    {
      "cell_type": "markdown",
      "metadata": {
        "id": "view-in-github",
        "colab_type": "text"
      },
      "source": [
        "<a href=\"https://colab.research.google.com/github/TJ0917/bioinfomatics/blob/main/test4.ipynb\" target=\"_parent\"><img src=\"https://colab.research.google.com/assets/colab-badge.svg\" alt=\"Open In Colab\"/></a>"
      ]
    },
    {
      "cell_type": "markdown",
      "source": [
        "# 나의 네 번째 파이썬 코드\n",
        "## 코랩에서 작성된 코드\n",
        "### 간단한 사칙연산 출력\n",
        "\n",
        "코랩에서 텍스트 작성방법을 설명하고 있습니다.\n",
        "---\n",
        "\n",
        "\n",
        "\n",
        "1.   항목 추가\n",
        "2.   항목 추가\n",
        "\n",
        "\n"
      ],
      "metadata": {
        "id": "2jac7CVJ9-bA"
      }
    },
    {
      "cell_type": "code",
      "execution_count": null,
      "metadata": {
        "id": "09FvxxgE9gor",
        "colab": {
          "base_uri": "https://localhost:8080/"
        },
        "outputId": "25c1f805-2d0e-42aa-804c-4591d5a744e6"
      },
      "outputs": [
        {
          "output_type": "stream",
          "name": "stdout",
          "text": [
            "600\n",
            "-400\n",
            "50000\n",
            "0.2\n"
          ]
        }
      ],
      "source": [
        "print(100+500)\n",
        "print(100-500)\n",
        "print(100*500)\n",
        "print(100/500)"
      ]
    },
    {
      "cell_type": "code",
      "source": [
        "import sys\n",
        "\n",
        "print('나의 네 번째 파이썬')\n",
        "print(sys.version)"
      ],
      "metadata": {
        "colab": {
          "base_uri": "https://localhost:8080/"
        },
        "id": "l8RO8oyl-0cz",
        "outputId": "49017606-d596-4743-de06-8dad238291cd"
      },
      "execution_count": null,
      "outputs": [
        {
          "output_type": "stream",
          "name": "stdout",
          "text": [
            "나의 네 번째 파이썬\n",
            "3.10.12 (main, Jun 11 2023, 05:26:28) [GCC 11.4.0]\n"
          ]
        }
      ]
    }
  ]
}